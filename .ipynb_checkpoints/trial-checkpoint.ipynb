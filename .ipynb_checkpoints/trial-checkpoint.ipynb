{
 "cells": [
  {
   "cell_type": "code",
   "execution_count": 1,
   "id": "44c2248b",
   "metadata": {},
   "outputs": [],
   "source": [
    "import pandas as pd\n",
    "import numpy as np"
   ]
  },
  {
   "cell_type": "code",
   "execution_count": 3,
   "id": "12aeabae",
   "metadata": {},
   "outputs": [],
   "source": [
    "df =pd.read_csv('./datasets/squad_3868.csv')"
   ]
  },
  {
   "cell_type": "code",
   "execution_count": 4,
   "id": "5f7e33d7",
   "metadata": {},
   "outputs": [
    {
     "data": {
      "text/html": [
       "<div>\n",
       "<style scoped>\n",
       "    .dataframe tbody tr th:only-of-type {\n",
       "        vertical-align: middle;\n",
       "    }\n",
       "\n",
       "    .dataframe tbody tr th {\n",
       "        vertical-align: top;\n",
       "    }\n",
       "\n",
       "    .dataframe thead th {\n",
       "        text-align: right;\n",
       "    }\n",
       "</style>\n",
       "<table border=\"1\" class=\"dataframe\">\n",
       "  <thead>\n",
       "    <tr style=\"text-align: right;\">\n",
       "      <th></th>\n",
       "      <th>Unnamed: 0</th>\n",
       "      <th>index</th>\n",
       "      <th>passage</th>\n",
       "      <th>question</th>\n",
       "      <th>answers</th>\n",
       "    </tr>\n",
       "  </thead>\n",
       "  <tbody>\n",
       "    <tr>\n",
       "      <th>0</th>\n",
       "      <td>0</td>\n",
       "      <td>21130</td>\n",
       "      <td>يقال إن مصطلح الموسيقى المنزلية نشأ من نادي شي...</td>\n",
       "      <td>ما النادي الذي نشأت منه عبارة &amp;quot;موسيقى منز...</td>\n",
       "      <td>[{'text': 'مستودع', 'start_char': 347}]</td>\n",
       "    </tr>\n",
       "    <tr>\n",
       "      <th>1</th>\n",
       "      <td>1</td>\n",
       "      <td>26229</td>\n",
       "      <td>زارت فيكتوريا البر الرئيسي لأوروبا بانتظام لقض...</td>\n",
       "      <td>لماذا زرت فيكتوريا ايرلندا في عام 1861؟</td>\n",
       "      <td>[{'text': 'للاعتراف بمساهمة الفوج الأيرلندي في...</td>\n",
       "    </tr>\n",
       "    <tr>\n",
       "      <th>2</th>\n",
       "      <td>2</td>\n",
       "      <td>35965</td>\n",
       "      <td>في أعقاب حل ديستني تشايلد في يونيو 2005 ، أصدر...</td>\n",
       "      <td>بعد أي فيلم يصور إيتا جيمس ، لم بيونسي خلق ساش...</td>\n",
       "      <td>[{'text': 'في كاديلاك', 'start_char': 342}]</td>\n",
       "    </tr>\n",
       "    <tr>\n",
       "      <th>3</th>\n",
       "      <td>3</td>\n",
       "      <td>33908</td>\n",
       "      <td>تم بناء أول خطوط سكك حديدية في تورينجيا في أرب...</td>\n",
       "      <td>متى تم التخلي عن معظم الخطوط الفرعية للسكك الح...</td>\n",
       "      <td>[{'text': 'عامي 1950 و 2000', 'start_char': 307}]</td>\n",
       "    </tr>\n",
       "    <tr>\n",
       "      <th>4</th>\n",
       "      <td>4</td>\n",
       "      <td>6087</td>\n",
       "      <td>ولد فريدريك شوبان في elazowa Wola ، 46 كم 29 م...</td>\n",
       "      <td>في أي قرية ولد فريديريك فيها؟</td>\n",
       "      <td>[{'text': 'ميلا غرب', 'start_char': 45}]</td>\n",
       "    </tr>\n",
       "  </tbody>\n",
       "</table>\n",
       "</div>"
      ],
      "text/plain": [
       "   Unnamed: 0  index                                            passage  \\\n",
       "0           0  21130  يقال إن مصطلح الموسيقى المنزلية نشأ من نادي شي...   \n",
       "1           1  26229  زارت فيكتوريا البر الرئيسي لأوروبا بانتظام لقض...   \n",
       "2           2  35965  في أعقاب حل ديستني تشايلد في يونيو 2005 ، أصدر...   \n",
       "3           3  33908  تم بناء أول خطوط سكك حديدية في تورينجيا في أرب...   \n",
       "4           4   6087  ولد فريدريك شوبان في elazowa Wola ، 46 كم 29 م...   \n",
       "\n",
       "                                            question  \\\n",
       "0  ما النادي الذي نشأت منه عبارة &quot;موسيقى منز...   \n",
       "1            لماذا زرت فيكتوريا ايرلندا في عام 1861؟   \n",
       "2  بعد أي فيلم يصور إيتا جيمس ، لم بيونسي خلق ساش...   \n",
       "3  متى تم التخلي عن معظم الخطوط الفرعية للسكك الح...   \n",
       "4                      في أي قرية ولد فريديريك فيها؟   \n",
       "\n",
       "                                             answers  \n",
       "0            [{'text': 'مستودع', 'start_char': 347}]  \n",
       "1  [{'text': 'للاعتراف بمساهمة الفوج الأيرلندي في...  \n",
       "2        [{'text': 'في كاديلاك', 'start_char': 342}]  \n",
       "3  [{'text': 'عامي 1950 و 2000', 'start_char': 307}]  \n",
       "4           [{'text': 'ميلا غرب', 'start_char': 45}]  "
      ]
     },
     "execution_count": 4,
     "metadata": {},
     "output_type": "execute_result"
    }
   ],
   "source": [
    "df.head()"
   ]
  },
  {
   "cell_type": "code",
   "execution_count": null,
   "id": "bc6dbe82",
   "metadata": {},
   "outputs": [],
   "source": []
  }
 ],
 "metadata": {
  "kernelspec": {
   "display_name": "Python 3 (ipykernel)",
   "language": "python",
   "name": "python3"
  },
  "language_info": {
   "codemirror_mode": {
    "name": "ipython",
    "version": 3
   },
   "file_extension": ".py",
   "mimetype": "text/x-python",
   "name": "python",
   "nbconvert_exporter": "python",
   "pygments_lexer": "ipython3",
   "version": "3.9.5"
  }
 },
 "nbformat": 4,
 "nbformat_minor": 5
}
