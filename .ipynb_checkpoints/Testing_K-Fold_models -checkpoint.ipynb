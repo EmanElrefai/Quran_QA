{
 "cells": [
  {
   "cell_type": "markdown",
   "id": "f1af0bc2",
   "metadata": {},
   "source": [
    "# Evaluating K-Folds Models on Testing Dataset."
   ]
  },
  {
   "cell_type": "code",
   "execution_count": 1,
   "id": "f0cf6f57",
   "metadata": {},
   "outputs": [
    {
     "name": "stderr",
     "output_type": "stream",
     "text": [
      "C:\\Users\\marwa\\anaconda3\\envs\\nlp_env\\lib\\site-packages\\tqdm\\auto.py:22: TqdmWarning: IProgress not found. Please update jupyter and ipywidgets. See https://ipywidgets.readthedocs.io/en/stable/user_install.html\n",
      "  from .autonotebook import tqdm as notebook_tqdm\n"
     ]
    }
   ],
   "source": [
    "import joblib\n",
    "import json\n",
    "from transformers import AutoTokenizer\n",
    "from scipy.special import softmax\n",
    "import torch\n",
    "import numpy as np"
   ]
  },
  {
   "cell_type": "markdown",
   "id": "dbb8672b",
   "metadata": {},
   "source": [
    "## Loading the Testing Data"
   ]
  },
  {
   "cell_type": "code",
   "execution_count": 3,
   "id": "e09b5d0f",
   "metadata": {},
   "outputs": [],
   "source": [
    "test_path = './datasets/qrcd_v1_1_test_noAnswers.jsonl'\n",
    "def read_data(datapath):\n",
    "    \n",
    "    with open(datapath ,'rb') as fp:\n",
    "        datalist = list(fp)\n",
    "    data =[]\n",
    "    for json_str in datalist:\n",
    "        result = json.loads(json_str)\n",
    "        data.append(result)    \n",
    "    return data \n",
    "test_data=read_data(test_path)"
   ]
  },
  {
   "cell_type": "markdown",
   "id": "4eead034",
   "metadata": {},
   "source": [
    "## Loading the Model"
   ]
  },
  {
   "cell_type": "code",
   "execution_count": 83,
   "id": "f3e80020",
   "metadata": {},
   "outputs": [],
   "source": [
    "models_path = './/models//stars_run00.hd5'\n",
    "\n",
    "def read_model_file(model_path):\n",
    "    model = joblib.load(model_path)\n",
    "    return model\n",
    "qa_model = read_model_file(models_path)"
   ]
  },
  {
   "cell_type": "markdown",
   "id": "c0317963",
   "metadata": {},
   "source": [
    "## Testing the model"
   ]
  },
  {
   "cell_type": "code",
   "execution_count": 6,
   "id": "8134cc7d",
   "metadata": {},
   "outputs": [],
   "source": [
    "# import the AutoTokenizer which will be used to download the pretrained tokenizer model.\n",
    "token_transformer_name = \"aubmindlab/bert-base-arabertv02\"\n",
    "\n",
    "# Downloading the pretrained tokenizer\n",
    "tokenizer = AutoTokenizer.from_pretrained(token_transformer_name) # inputs id , attention mask \n"
   ]
  },
  {
   "cell_type": "code",
   "execution_count": 84,
   "id": "27547d93",
   "metadata": {},
   "outputs": [],
   "source": [
    "def predict_quran_qav1(passage , question, show_all=False):\n",
    "    #Inilize the list of answers sorted by its rank\n",
    "    ranked_answers=[]\n",
    "    \n",
    "    # Pass the question and the passage to the tokenizer\n",
    "    inputs = tokenizer(question, passage, add_special_tokens=True, return_tensors=\"pt\").to(\"cuda\") \n",
    "    \n",
    "    # Obtain the input_ids from inputs\n",
    "    input_ids = inputs[\"input_ids\"].tolist()[0]\n",
    "    \n",
    "    # predict the inputs from the qa_model\n",
    "    outputs = qa_model(**inputs) \n",
    "    '''\n",
    "    # The prediction output has two lists start_logits 'for the answer star index' \n",
    "    # and the end_logits for the answer end index.\n",
    "    '''\n",
    "    #obtain the starts and ends scores prediced from the qa_model\n",
    "    answer_start_scores = outputs.start_logits\n",
    "    answer_end_scores = outputs.end_logits\n",
    "    \n",
    "    # Obtain the top 5 start scores\n",
    "    # convert the 5 start scores into distribution.\n",
    "    answer_starts_probs = softmax(torch.topk(answer_start_scores , 5).values.cpu().data.numpy())\n",
    "    \n",
    "    \n",
    "    # obtain the top 5 indices for the start character\n",
    "    answer_starts =  torch.topk(answer_start_scores , 5).indices\n",
    "    \n",
    "    # Obtain the top 5 end scores\n",
    "    # convert the 5 end scores into distribution.\n",
    "    answer_ends_probs = softmax(torch.topk(answer_end_scores, 5).values.cpu().data.numpy())\n",
    "\n",
    "    # obtain the full probability by multiplying the matrix elementwise\n",
    "    full_probs = softmax((np.multiply(answer_starts_probs,answer_ends_probs)))[0] #check[1]\n",
    "\n",
    "    # obtain the top 5 indices for the end character\n",
    "    answer_ends = torch.topk(answer_end_scores, 5).indices +1\n",
    "    \n",
    "    #print(f\"Question: {question}\")\n",
    "    #print('top predicted answers:')\n",
    "    idx =0\n",
    "    \n",
    "    # loop on each answer_start and answer_end indicies\n",
    "    #This loop mainly will be used to convert the indcies to the words according to the indcies obtained from above.\n",
    "    for answer_start ,  answer_end in zip(answer_starts.tolist()[0], answer_ends.tolist()[0]):\n",
    "        \n",
    "        idx+=1\n",
    "        # use the convert_tokens_to_string API to convert the input_ids\n",
    "        #'from the answer_start to the answer_end' back to the words starting from\n",
    "        answer = tokenizer.convert_tokens_to_string( tokenizer.convert_ids_to_tokens(input_ids[answer_start:answer_end]))\n",
    "        \n",
    "       \n",
    "        #If the answer is not empty\n",
    "        if answer.strip() !='':\n",
    "            \n",
    "            # if the full_probs is good, then register the answer\n",
    "            if (full_probs[idx-1] > 0.1):    \n",
    "                \n",
    "                # print the answer\n",
    "                #print(f\"Answer number {idx}: {answer}\")\n",
    "                #Append the answer to the ranked_answers\n",
    "                ranked_answers.append( { 'answer': answer, 'rank' : len(ranked_answers)+1, 'score':float(full_probs[idx-1])})\n",
    "    #This is just for checking the ranked_answers if empty.\n",
    "    if len(ranked_answers) == 0:\n",
    "        print(' Empty Answer List')      \n",
    "    return ranked_answers"
   ]
  },
  {
   "cell_type": "code",
   "execution_count": 85,
   "id": "cb7d67aa",
   "metadata": {},
   "outputs": [],
   "source": [
    "result ={}\n",
    "for sample in test_data:\n",
    "    result[sample['pq_id']] = predict_quran_qav1(sample['passage'], sample['question'])"
   ]
  },
  {
   "cell_type": "code",
   "execution_count": 87,
   "id": "51b65000",
   "metadata": {},
   "outputs": [],
   "source": [
    "import os\n",
    "testing_output_path=r'./testing_res/stars_runTs10.json'\n",
    "with open(testing_output_path, 'w' , encoding= 'utf8') as fp:\n",
    "    json.dump(result , fp, ensure_ascii=False)\n"
   ]
  },
  {
   "cell_type": "code",
   "execution_count": null,
   "id": "f3f64a26",
   "metadata": {},
   "outputs": [],
   "source": []
  }
 ],
 "metadata": {
  "kernelspec": {
   "display_name": "Python 3 (ipykernel)",
   "language": "python",
   "name": "python3"
  },
  "language_info": {
   "codemirror_mode": {
    "name": "ipython",
    "version": 3
   },
   "file_extension": ".py",
   "mimetype": "text/x-python",
   "name": "python",
   "nbconvert_exporter": "python",
   "pygments_lexer": "ipython3",
   "version": "3.8.8"
  }
 },
 "nbformat": 4,
 "nbformat_minor": 5
}
