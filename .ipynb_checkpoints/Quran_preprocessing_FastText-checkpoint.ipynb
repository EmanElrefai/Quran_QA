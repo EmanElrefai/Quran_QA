{
 "cells": [
  {
   "cell_type": "markdown",
   "metadata": {},
   "source": [
    "# Quraan Dataset"
   ]
  },
  {
   "cell_type": "code",
   "execution_count": 1,
   "metadata": {
    "scrolled": false
   },
   "outputs": [
    {
     "name": "stderr",
     "output_type": "stream",
     "text": [
      "c:\\users\\marwa\\appdata\\local\\programs\\python\\python38\\lib\\site-packages\\gensim\\similarities\\__init__.py:15: UserWarning: The gensim.similarities.levenshtein submodule is disabled, because the optional Levenshtein package <https://pypi.org/project/python-Levenshtein/> is unavailable. Install Levenhstein (e.g. `pip install python-Levenshtein`) to suppress this warning.\n",
      "  warnings.warn(msg)\n"
     ]
    }
   ],
   "source": [
    "from gensim.models.fasttext import FastText\n",
    "import pandas as pd\n",
    "import numpy as np\n",
    "\n",
    "from camel_tools.tokenizers.word import simple_word_tokenize\n",
    "from camel_tools.disambig.mle import MLEDisambiguator\n",
    "from camel_tools.tokenizers.morphological import MorphologicalTokenizer"
   ]
  },
  {
   "cell_type": "code",
   "execution_count": 2,
   "metadata": {},
   "outputs": [],
   "source": [
    "import logging\n",
    "logging.basicConfig(format='%(asctime)s : %(levelname)s : %(message)s', level=logging.INFO)"
   ]
  },
  {
   "cell_type": "markdown",
   "metadata": {},
   "source": [
    "## Reading the data:"
   ]
  },
  {
   "cell_type": "code",
   "execution_count": 13,
   "metadata": {},
   "outputs": [],
   "source": [
    "def read_data():\n",
    "    quran_ds = pd.read_csv('datasets//AAQQAC-AEM.csv', index_col=False)\n",
    "    return quran_ds"
   ]
  },
  {
   "cell_type": "code",
   "execution_count": 14,
   "metadata": {},
   "outputs": [
    {
     "data": {
      "text/html": [
       "<div>\n",
       "<style scoped>\n",
       "    .dataframe tbody tr th:only-of-type {\n",
       "        vertical-align: middle;\n",
       "    }\n",
       "\n",
       "    .dataframe tbody tr th {\n",
       "        vertical-align: top;\n",
       "    }\n",
       "\n",
       "    .dataframe thead th {\n",
       "        text-align: right;\n",
       "    }\n",
       "</style>\n",
       "<table border=\"1\" class=\"dataframe\">\n",
       "  <thead>\n",
       "    <tr style=\"text-align: right;\">\n",
       "      <th></th>\n",
       "      <th>Question</th>\n",
       "      <th>Passage</th>\n",
       "      <th>Answers</th>\n",
       "      <th>Surah</th>\n",
       "      <th>notes</th>\n",
       "      <th>Question length</th>\n",
       "      <th>Passage length</th>\n",
       "      <th>Answer length</th>\n",
       "    </tr>\n",
       "  </thead>\n",
       "  <tbody>\n",
       "    <tr>\n",
       "      <th>0</th>\n",
       "      <td>ما الشيء الذي يحمله الإنسان على ظهره يوم القيا...</td>\n",
       "      <td>وَلَوْ تَرَىٰ إِذْ وُقِفُوا عَلَىٰ رَبِّهِمْ ۚ...</td>\n",
       "      <td>يَحْمِلُونَ أَوْزَارَهُمْ</td>\n",
       "      <td>الأنعام</td>\n",
       "      <td>NaN</td>\n",
       "      <td>74</td>\n",
       "      <td>536</td>\n",
       "      <td>25</td>\n",
       "    </tr>\n",
       "    <tr>\n",
       "      <th>1</th>\n",
       "      <td>أين يبني النحل بيوته لوضع العسل ؟</td>\n",
       "      <td>وَمِن ثَمَرَاتِ النَّخِيلِ وَالْأَعْنَابِ تَتّ...</td>\n",
       "      <td>وَأَوْحَى رَبُّكَ إِلَى النَّحْلِ أَنِ اتَّخِذ...</td>\n",
       "      <td>النحل</td>\n",
       "      <td>NaN</td>\n",
       "      <td>33</td>\n",
       "      <td>470</td>\n",
       "      <td>111</td>\n",
       "    </tr>\n",
       "    <tr>\n",
       "      <th>2</th>\n",
       "      <td>ما هي مراحل خلق الإنسان حتى بعثه يوم القيامة؟</td>\n",
       "      <td>وَلَقَدْ خَلَقْنَا الْإِنسَانَ مِن سُلَالَةٍ م...</td>\n",
       "      <td>وَلَقَدْ خَلَقْنَا الْإِنسَانَ مِن سُلَالَةٍ م...</td>\n",
       "      <td>NaN</td>\n",
       "      <td>NaN</td>\n",
       "      <td>45</td>\n",
       "      <td>424</td>\n",
       "      <td>278</td>\n",
       "    </tr>\n",
       "    <tr>\n",
       "      <th>3</th>\n",
       "      <td>ما مقياس التفاضل عند الله تعالى بين الناس ؟</td>\n",
       "      <td>يَا أَيُّهَا النَّاسُ إِنَّا خَلَقْنَاكُم مِّن...</td>\n",
       "      <td>إِنَّ أَكْرَمَكُمْ عِندَ اللَّهِ أَتْقَاكُمْ</td>\n",
       "      <td>NaN</td>\n",
       "      <td>NaN</td>\n",
       "      <td>43</td>\n",
       "      <td>192</td>\n",
       "      <td>45</td>\n",
       "    </tr>\n",
       "    <tr>\n",
       "      <th>4</th>\n",
       "      <td>ما الذي عبده قوم موسى عليه السلام بعد ذهابه لم...</td>\n",
       "      <td>وَالَّذِينَ كَذَّبُوا بِآيَاتِنَا وَلِقَاءِ ال...</td>\n",
       "      <td>وَاتَّخَذَ قَوْمُ مُوسَى مِن بَعْدِهِ مِنْ حُل...</td>\n",
       "      <td>NaN</td>\n",
       "      <td>NaN</td>\n",
       "      <td>57</td>\n",
       "      <td>490</td>\n",
       "      <td>84</td>\n",
       "    </tr>\n",
       "  </tbody>\n",
       "</table>\n",
       "</div>"
      ],
      "text/plain": [
       "                                            Question  \\\n",
       "0  ما الشيء الذي يحمله الإنسان على ظهره يوم القيا...   \n",
       "1                  أين يبني النحل بيوته لوضع العسل ؟   \n",
       "2      ما هي مراحل خلق الإنسان حتى بعثه يوم القيامة؟   \n",
       "3        ما مقياس التفاضل عند الله تعالى بين الناس ؟   \n",
       "4  ما الذي عبده قوم موسى عليه السلام بعد ذهابه لم...   \n",
       "\n",
       "                                             Passage  \\\n",
       "0  وَلَوْ تَرَىٰ إِذْ وُقِفُوا عَلَىٰ رَبِّهِمْ ۚ...   \n",
       "1  وَمِن ثَمَرَاتِ النَّخِيلِ وَالْأَعْنَابِ تَتّ...   \n",
       "2  وَلَقَدْ خَلَقْنَا الْإِنسَانَ مِن سُلَالَةٍ م...   \n",
       "3  يَا أَيُّهَا النَّاسُ إِنَّا خَلَقْنَاكُم مِّن...   \n",
       "4  وَالَّذِينَ كَذَّبُوا بِآيَاتِنَا وَلِقَاءِ ال...   \n",
       "\n",
       "                                             Answers    Surah notes  \\\n",
       "0                          يَحْمِلُونَ أَوْزَارَهُمْ  الأنعام   NaN   \n",
       "1  وَأَوْحَى رَبُّكَ إِلَى النَّحْلِ أَنِ اتَّخِذ...    النحل   NaN   \n",
       "2  وَلَقَدْ خَلَقْنَا الْإِنسَانَ مِن سُلَالَةٍ م...      NaN   NaN   \n",
       "3       إِنَّ أَكْرَمَكُمْ عِندَ اللَّهِ أَتْقَاكُمْ      NaN   NaN   \n",
       "4  وَاتَّخَذَ قَوْمُ مُوسَى مِن بَعْدِهِ مِنْ حُل...      NaN   NaN   \n",
       "\n",
       "   Question length  Passage length  Answer length   \n",
       "0               74             536              25  \n",
       "1               33             470             111  \n",
       "2               45             424             278  \n",
       "3               43             192              45  \n",
       "4               57             490              84  "
      ]
     },
     "execution_count": 14,
     "metadata": {},
     "output_type": "execute_result"
    }
   ],
   "source": [
    "quran_ds = read_data()\n",
    "quran_ds.head()"
   ]
  },
  {
   "cell_type": "code",
   "execution_count": 8,
   "metadata": {},
   "outputs": [
    {
     "data": {
      "text/plain": [
       "'tion'"
      ]
     },
     "execution_count": 8,
     "metadata": {},
     "output_type": "execute_result"
    }
   ],
   "source": [
    "quran_ds[0][0][4:]"
   ]
  },
  {
   "cell_type": "code",
   "execution_count": 9,
   "metadata": {},
   "outputs": [
    {
     "data": {
      "text/plain": [
       "626"
      ]
     },
     "execution_count": 9,
     "metadata": {},
     "output_type": "execute_result"
    }
   ],
   "source": [
    "quran_ds.shape[0]"
   ]
  },
  {
   "cell_type": "code",
   "execution_count": 7,
   "metadata": {},
   "outputs": [],
   "source": [
    "quran_ds['verses'] = [quran_ds[0][i][4:] for i in range(0,quran_ds.shape[0])]"
   ]
  },
  {
   "cell_type": "code",
   "execution_count": 10,
   "metadata": {},
   "outputs": [],
   "source": [
    "def cleanining_verses():\n",
    "    for i in len(range(0,quran_ds.shape[0])):\n",
    "        quran_ds[0][0][4:]\n",
    "        \n",
    "        "
   ]
  },
  {
   "cell_type": "code",
   "execution_count": 9,
   "metadata": {},
   "outputs": [
    {
     "data": {
      "text/html": [
       "<div>\n",
       "<style scoped>\n",
       "    .dataframe tbody tr th:only-of-type {\n",
       "        vertical-align: middle;\n",
       "    }\n",
       "\n",
       "    .dataframe tbody tr th {\n",
       "        vertical-align: top;\n",
       "    }\n",
       "\n",
       "    .dataframe thead th {\n",
       "        text-align: right;\n",
       "    }\n",
       "</style>\n",
       "<table border=\"1\" class=\"dataframe\">\n",
       "  <thead>\n",
       "    <tr style=\"text-align: right;\">\n",
       "      <th></th>\n",
       "      <th>0</th>\n",
       "      <th>verses</th>\n",
       "    </tr>\n",
       "  </thead>\n",
       "  <tbody>\n",
       "    <tr>\n",
       "      <th>0</th>\n",
       "      <td>1|1|بِسْمِ اللَّهِ الرَّحْمَٰنِ الرَّحِيمِ</td>\n",
       "      <td>بِسْمِ اللَّهِ الرَّحْمَٰنِ الرَّحِيمِ</td>\n",
       "    </tr>\n",
       "    <tr>\n",
       "      <th>1</th>\n",
       "      <td>1|2|الْحَمْدُ لِلَّهِ رَبِّ الْعَالَمِينَ</td>\n",
       "      <td>الْحَمْدُ لِلَّهِ رَبِّ الْعَالَمِينَ</td>\n",
       "    </tr>\n",
       "    <tr>\n",
       "      <th>2</th>\n",
       "      <td>1|3|الرَّحْمَٰنِ الرَّحِيمِ</td>\n",
       "      <td>الرَّحْمَٰنِ الرَّحِيمِ</td>\n",
       "    </tr>\n",
       "    <tr>\n",
       "      <th>3</th>\n",
       "      <td>1|4|مَالِكِ يَوْمِ الدِّينِ</td>\n",
       "      <td>مَالِكِ يَوْمِ الدِّينِ</td>\n",
       "    </tr>\n",
       "    <tr>\n",
       "      <th>4</th>\n",
       "      <td>1|5|إِيَّاكَ نَعْبُدُ وَإِيَّاكَ نَسْتَعِينُ</td>\n",
       "      <td>إِيَّاكَ نَعْبُدُ وَإِيَّاكَ نَسْتَعِينُ</td>\n",
       "    </tr>\n",
       "  </tbody>\n",
       "</table>\n",
       "</div>"
      ],
      "text/plain": [
       "                                              0  \\\n",
       "0    1|1|بِسْمِ اللَّهِ الرَّحْمَٰنِ الرَّحِيمِ   \n",
       "1     1|2|الْحَمْدُ لِلَّهِ رَبِّ الْعَالَمِينَ   \n",
       "2                   1|3|الرَّحْمَٰنِ الرَّحِيمِ   \n",
       "3                   1|4|مَالِكِ يَوْمِ الدِّينِ   \n",
       "4  1|5|إِيَّاكَ نَعْبُدُ وَإِيَّاكَ نَسْتَعِينُ   \n",
       "\n",
       "                                     verses  \n",
       "0    بِسْمِ اللَّهِ الرَّحْمَٰنِ الرَّحِيمِ  \n",
       "1     الْحَمْدُ لِلَّهِ رَبِّ الْعَالَمِينَ  \n",
       "2                   الرَّحْمَٰنِ الرَّحِيمِ  \n",
       "3                   مَالِكِ يَوْمِ الدِّينِ  \n",
       "4  إِيَّاكَ نَعْبُدُ وَإِيَّاكَ نَسْتَعِينُ  "
      ]
     },
     "execution_count": 9,
     "metadata": {},
     "output_type": "execute_result"
    }
   ],
   "source": [
    "quran_ds.head()"
   ]
  },
  {
   "cell_type": "markdown",
   "metadata": {},
   "source": [
    "## Data Preprocessing\n",
    "### Arabic Normalization"
   ]
  },
  {
   "cell_type": "code",
   "execution_count": 11,
   "metadata": {},
   "outputs": [],
   "source": [
    "# from the following repo: https://github.com/motazsaad/process-arabic-text/blob/master/clean_arabic_text.py\n",
    "import re\n",
    "import string\n",
    "import sys\n",
    "import argparse\n",
    "\n",
    "arabic_punctuations = '''`÷×؛<>_()*&^%][ـ،/:\"؟.,'{}~¦+|!”…“–ـ'''\n",
    "english_punctuations = string.punctuation\n",
    "punctuations_list = arabic_punctuations + english_punctuations\n",
    "\n",
    "arabic_diacritics = re.compile(\"\"\"\n",
    "                             ّ    | # Tashdid\n",
    "                             َ    | # Fatha\n",
    "                             ً    | # Tanwin Fath\n",
    "                             ُ    | # Damma\n",
    "                             ٌ    | # Tanwin Damm\n",
    "                             ِ    | # Kasra\n",
    "                             ٍ    | # Tanwin Kasr\n",
    "                             ْ    | # Sukun\n",
    "                            ـ    | # Tatwil/Kashida\n",
    "                            ـ    | # Tatwil/Kashida\n",
    "                             ۖ    | # wakf\n",
    "                             ۗ    | # wakf\n",
    "                             ۘ    | # wakf\n",
    "                             ۙ    | # no wakf\n",
    "                             ۚ    | # wakf\n",
    "                             ۛ    | # wakf\n",
    "                             ۜ    | # sakt\n",
    "                             ۣ    | # seen tahteya\n",
    "                             ۟    |\n",
    "                             ۠    |\n",
    "                             ۡ    |\n",
    "                             ۢ    |\n",
    "                             ۤ    |\n",
    "                            ۥ     |\n",
    "                             ۭ     |\n",
    "                             ۫     |\n",
    "                            ۬     |\n",
    "                           ۪      |\n",
    "                           ۨ       |\n",
    "                          ۪       |\n",
    "                          ۩      \n",
    "                          \n",
    "                             \n",
    "                         \"\"\", re.VERBOSE)\n",
    "\n",
    "## I will compare witht the compition\n",
    "def normalize_arabic(text):\n",
    "    #text = re.sub(\"[إأآا]\", \"ا\", text)\n",
    "\n",
    "    #text = re.sub(\"ى\", \"ي\", text)\n",
    "    #text = re.sub(\"ؤ\", \"ء\", text)\n",
    "    #text = re.sub(\"ئ\", \"ء\", text)\n",
    "    text = re.sub(\"ة\", \"ه\", text)\n",
    "    text = re.sub(\"گ\", \"ك\", text)\n",
    "    return text\n",
    "\n",
    "def remove_digits(text):\n",
    "    text = re.sub(r\"[1234567890١٢٣٤٥٦٧٨٩٠]+\", \"\", text)\n",
    "    return text\n",
    "\n",
    "def remove_english_characters(text):\n",
    "    text = re.sub(r'[a-zA-Z]+','',text)\n",
    "    return text\n",
    "    \n",
    "\n",
    "def remove_diacritics(text):\n",
    "    text = re.sub(arabic_diacritics, '', text)\n",
    "    return text\n",
    "\n",
    "\n",
    "def remove_punctuations(text):\n",
    "    translator = str.maketrans('', '', punctuations_list)\n",
    "    return text.translate(translator)\n"
   ]
  },
  {
   "cell_type": "code",
   "execution_count": 12,
   "metadata": {},
   "outputs": [],
   "source": [
    "def Arabic_normalization(Arabic_sentence_list):\n",
    "    Arabic_data_list = []\n",
    "    for item in Arabic_sentence_list:\n",
    "        text = remove_english_characters(item)\n",
    "        text = remove_digits(text)\n",
    "        text = normalize_arabic(text)\n",
    "        text = remove_diacritics(text)\n",
    "        text = remove_punctuations(text)\n",
    "        Arabic_data_list.append(text)\n",
    "        \n",
    "    return Arabic_data_list    \n",
    " "
   ]
  },
  {
   "cell_type": "code",
   "execution_count": 19,
   "metadata": {},
   "outputs": [],
   "source": [
    "new_quran_ds = quran_ds.copy()"
   ]
  },
  {
   "cell_type": "code",
   "execution_count": 20,
   "metadata": {},
   "outputs": [],
   "source": [
    "new_quran_ds['passage'] = Arabic_normalization(quran_ds.Passage)\n"
   ]
  },
  {
   "cell_type": "code",
   "execution_count": 23,
   "metadata": {},
   "outputs": [],
   "source": [
    "new_quran_ds['answers'] = Arabic_normalization(quran_ds.Answers)\n"
   ]
  },
  {
   "cell_type": "code",
   "execution_count": 25,
   "metadata": {},
   "outputs": [],
   "source": [
    "new_quran_ds['question'] = Arabic_normalization(quran_ds.Question)\n"
   ]
  },
  {
   "cell_type": "code",
   "execution_count": 27,
   "metadata": {},
   "outputs": [],
   "source": [
    "new_quran_ds.to_csv('new_data.csv', index=False, encoding='utf-8-sig')"
   ]
  },
  {
   "cell_type": "markdown",
   "metadata": {},
   "source": [
    "### Arabic Tokenization"
   ]
  },
  {
   "cell_type": "code",
   "execution_count": 18,
   "metadata": {},
   "outputs": [],
   "source": [
    "from camel_tools.tokenizers.word import simple_word_tokenize\n",
    "\n",
    "def tokenize_Arabic(Arabic_input):\n",
    "    # The tokenizer expects pre-tokenized text\n",
    "    Arabic_input_ls = Arabic_input.apply(simple_word_tokenize)\n",
    "\n",
    "    # Load a pretrained disambiguator to use with a tokenizer\n",
    "    mle = MLEDisambiguator.pretrained('calima-msa-r13')\n",
    "\n",
    "    # By specifying `split=True`, the morphological tokens are output as seperate\n",
    "    # strings.\n",
    "    tokenizer = MorphologicalTokenizer(mle,scheme='d3tok', split=True)\n",
    "    Arabic_input_ls = Arabic_input_ls.apply(tokenizer.tokenize)\n",
    "    \n",
    "    return Arabic_input_ls"
   ]
  },
  {
   "cell_type": "code",
   "execution_count": 15,
   "metadata": {},
   "outputs": [],
   "source": [
    "quran_ds['Tokenized_Verse'] = tokenize_Arabic(quran_ds['Normalized_Verse'])\n"
   ]
  },
  {
   "cell_type": "code",
   "execution_count": 16,
   "metadata": {},
   "outputs": [
    {
     "data": {
      "text/plain": [
       "0       [ب+, سم, الله, ال+, رحمن, ال+, رحيم]\n",
       "1           [ال+, حمد, لله, رب, ال+, عالمين]\n",
       "2                     [ال+, رحمن, ال+, رحيم]\n",
       "3                      [مالك, يوم, ال+, دين]\n",
       "4       [إيا, +ك, نعبد, و+, إيا, +ك, نستعين]\n",
       "                        ...                 \n",
       "6231                         [ملك, ال+, ناس]\n",
       "6232                         [إله, ال+, ناس]\n",
       "6233         [من, شر, ال+, وسواس, ال+, خناس]\n",
       "6234       [الذي, يوسوس, في, صدور, ال+, ناس]\n",
       "6235            [من, ال+, جنة, و+, ال+, ناس]\n",
       "Name: Tokenized_Verse, Length: 6236, dtype: object"
      ]
     },
     "execution_count": 16,
     "metadata": {},
     "output_type": "execute_result"
    }
   ],
   "source": [
    "quran_ds['Tokenized_Verse']"
   ]
  },
  {
   "cell_type": "code",
   "execution_count": 17,
   "metadata": {},
   "outputs": [],
   "source": [
    "def remove_plus(tokens):\n",
    "    sentence_ls = []\n",
    "    for token in tokens:\n",
    "        if '+' in token:\n",
    "            token_without_plus = token.replace('+','')\n",
    "            sentence_ls.append(token_without_plus) \n",
    "        else:\n",
    "            sentence_ls.append(token) \n",
    "\n",
    "            \n",
    "    return sentence_ls"
   ]
  },
  {
   "cell_type": "code",
   "execution_count": 18,
   "metadata": {},
   "outputs": [],
   "source": [
    "quran_ds['AfterCleaning_Verse'] = quran_ds['Tokenized_Verse'].apply(remove_plus)\n"
   ]
  },
  {
   "cell_type": "code",
   "execution_count": 19,
   "metadata": {
    "scrolled": true
   },
   "outputs": [
    {
     "data": {
      "text/plain": [
       "0       [ب, سم, الله, ال, رحمن, ال, رحيم]\n",
       "1          [ال, حمد, لله, رب, ال, عالمين]\n",
       "2                    [ال, رحمن, ال, رحيم]\n",
       "3                    [مالك, يوم, ال, دين]\n",
       "4       [إيا, ك, نعبد, و, إيا, ك, نستعين]\n",
       "                      ...                \n",
       "6231                       [ملك, ال, ناس]\n",
       "6232                       [إله, ال, ناس]\n",
       "6233        [من, شر, ال, وسواس, ال, خناس]\n",
       "6234     [الذي, يوسوس, في, صدور, ال, ناس]\n",
       "6235            [من, ال, جنة, و, ال, ناس]\n",
       "Name: AfterCleaning_Verse, Length: 6236, dtype: object"
      ]
     },
     "execution_count": 19,
     "metadata": {},
     "output_type": "execute_result"
    }
   ],
   "source": [
    "quran_ds['AfterCleaning_Verse']"
   ]
  },
  {
   "cell_type": "code",
   "execution_count": 20,
   "metadata": {},
   "outputs": [],
   "source": [
    "quran_ds['sentences'] = [\" \".join(map(str,quran_ds['AfterCleaning_Verse'][i])) for i in range(0,quran_ds.shape[0])]"
   ]
  },
  {
   "cell_type": "code",
   "execution_count": 21,
   "metadata": {
    "scrolled": true
   },
   "outputs": [
    {
     "data": {
      "text/plain": [
       "0    ب سم الله ال رحمن ال رحيم\n",
       "1      ال حمد لله رب ال عالمين\n",
       "2              ال رحمن ال رحيم\n",
       "3              مالك يوم ال دين\n",
       "4    إيا ك نعبد و إيا ك نستعين\n",
       "Name: sentences, dtype: object"
      ]
     },
     "execution_count": 21,
     "metadata": {},
     "output_type": "execute_result"
    }
   ],
   "source": [
    "quran_ds['sentences'].head()"
   ]
  },
  {
   "cell_type": "code",
   "execution_count": 22,
   "metadata": {},
   "outputs": [
    {
     "name": "stdout",
     "output_type": "stream",
     "text": [
      "False\n"
     ]
    }
   ],
   "source": [
    "with open('Embedding_corpus//corpus.txt', 'w', encoding='utf-8') as f:\n",
    "    f.write('\\n'.join(quran_ds['sentences']))\n",
    "    print(f.closed)"
   ]
  },
  {
   "cell_type": "markdown",
   "metadata": {},
   "source": [
    "## Embedding\n",
    "### Training the FastText Embedding"
   ]
  },
  {
   "cell_type": "code",
   "execution_count": 23,
   "metadata": {
    "scrolled": false
   },
   "outputs": [
    {
     "name": "stderr",
     "output_type": "stream",
     "text": [
      "2022-03-01 09:06:51,482 : INFO : FastText lifecycle event {'params': 'FastText(vocab=0, vector_size=200, alpha=0.025)', 'datetime': '2022-03-01T09:06:51.482022', 'gensim': '4.0.1', 'python': '3.8.5 (tags/v3.8.5:580fbb0, Jul 20 2020, 15:57:54) [MSC v.1924 64 bit (AMD64)]', 'platform': 'Windows-10-10.0.19041-SP0', 'event': 'created'}\n",
      "2022-03-01 09:06:51,483 : INFO : collecting all words and their counts\n",
      "2022-03-01 09:06:51,483 : INFO : PROGRESS: at sentence #0, processed 0 words, keeping 0 word types\n",
      "2022-03-01 09:06:51,519 : INFO : collected 8999 word types from a corpus of 117426 raw words and 6236 sentences\n",
      "2022-03-01 09:06:51,520 : INFO : Creating a fresh vocabulary\n",
      "2022-03-01 09:06:51,528 : INFO : FastText lifecycle event {'msg': 'effective_min_count=5 retains 1872 unique words (20.80231136792977%% of original 8999, drops 7127)', 'datetime': '2022-03-01T09:06:51.528023', 'gensim': '4.0.1', 'python': '3.8.5 (tags/v3.8.5:580fbb0, Jul 20 2020, 15:57:54) [MSC v.1924 64 bit (AMD64)]', 'platform': 'Windows-10-10.0.19041-SP0', 'event': 'prepare_vocab'}\n",
      "2022-03-01 09:06:51,529 : INFO : FastText lifecycle event {'msg': 'effective_min_count=5 leaves 106087 word corpus (90.34370582324188%% of original 117426, drops 11339)', 'datetime': '2022-03-01T09:06:51.529023', 'gensim': '4.0.1', 'python': '3.8.5 (tags/v3.8.5:580fbb0, Jul 20 2020, 15:57:54) [MSC v.1924 64 bit (AMD64)]', 'platform': 'Windows-10-10.0.19041-SP0', 'event': 'prepare_vocab'}\n",
      "2022-03-01 09:06:51,538 : INFO : deleting the raw counts dictionary of 8999 items\n",
      "2022-03-01 09:06:51,538 : INFO : sample=0.001 downsamples 44 most-common words\n",
      "2022-03-01 09:06:51,539 : INFO : FastText lifecycle event {'msg': 'downsampling leaves estimated 58233.78013603475 word corpus (54.9%% of prior 106087)', 'datetime': '2022-03-01T09:06:51.539024', 'gensim': '4.0.1', 'python': '3.8.5 (tags/v3.8.5:580fbb0, Jul 20 2020, 15:57:54) [MSC v.1924 64 bit (AMD64)]', 'platform': 'Windows-10-10.0.19041-SP0', 'event': 'prepare_vocab'}\n",
      "2022-03-01 09:06:51,564 : INFO : estimated required memory for 1872 words, 2000000 buckets and 200 dimensions: 1604277132 bytes\n",
      "2022-03-01 09:06:51,565 : INFO : resetting layer weights\n",
      "2022-03-01 09:06:52,974 : INFO : FastText lifecycle event {'update': False, 'trim_rule': 'None', 'datetime': '2022-03-01T09:06:52.974436', 'gensim': '4.0.1', 'python': '3.8.5 (tags/v3.8.5:580fbb0, Jul 20 2020, 15:57:54) [MSC v.1924 64 bit (AMD64)]', 'platform': 'Windows-10-10.0.19041-SP0', 'event': 'build_vocab'}\n"
     ]
    }
   ],
   "source": [
    "from pprint import pprint as print\n",
    "\n",
    "# Set file names for train and test data\n",
    "#corpus_file = datapath('lee_background.cor')\n",
    "corpus_file = 'Embedding_corpus//corpus.txt'\n",
    "model = FastText(vector_size=200, window = 5, max_n = 20, min_n=1)\n",
    "\n",
    "# build the vocabulary\n",
    "model.build_vocab(corpus_file=corpus_file)\n"
   ]
  },
  {
   "cell_type": "code",
   "execution_count": 24,
   "metadata": {},
   "outputs": [
    {
     "data": {
      "text/plain": [
       "6236"
      ]
     },
     "execution_count": 24,
     "metadata": {},
     "output_type": "execute_result"
    }
   ],
   "source": [
    "model.corpus_count"
   ]
  },
  {
   "cell_type": "code",
   "execution_count": 25,
   "metadata": {},
   "outputs": [
    {
     "name": "stderr",
     "output_type": "stream",
     "text": [
      "2022-03-01 09:06:53,010 : INFO : FastText lifecycle event {'msg': 'training model with 3 workers on 1872 vocabulary and 200 features, using sg=0 hs=0 sample=0.001 negative=5 window=5', 'datetime': '2022-03-01T09:06:53.010407', 'gensim': '4.0.1', 'python': '3.8.5 (tags/v3.8.5:580fbb0, Jul 20 2020, 15:57:54) [MSC v.1924 64 bit (AMD64)]', 'platform': 'Windows-10-10.0.19041-SP0', 'event': 'train'}\n",
      "2022-03-01 09:06:53,230 : INFO : worker thread finished; awaiting finish of 2 more threads\n",
      "2022-03-01 09:06:53,232 : INFO : worker thread finished; awaiting finish of 1 more threads\n",
      "2022-03-01 09:06:53,247 : INFO : worker thread finished; awaiting finish of 0 more threads\n",
      "2022-03-01 09:06:53,248 : INFO : EPOCH - 1 : training on 119127 raw words (59173 effective words) took 0.2s, 258847 effective words/s\n",
      "2022-03-01 09:06:53,470 : INFO : worker thread finished; awaiting finish of 2 more threads\n",
      "2022-03-01 09:06:53,484 : INFO : worker thread finished; awaiting finish of 1 more threads\n",
      "2022-03-01 09:06:53,485 : INFO : worker thread finished; awaiting finish of 0 more threads\n",
      "2022-03-01 09:06:53,486 : INFO : EPOCH - 2 : training on 119127 raw words (59237 effective words) took 0.2s, 252452 effective words/s\n",
      "2022-03-01 09:06:53,692 : INFO : worker thread finished; awaiting finish of 2 more threads\n",
      "2022-03-01 09:06:53,713 : INFO : worker thread finished; awaiting finish of 1 more threads\n",
      "2022-03-01 09:06:53,715 : INFO : worker thread finished; awaiting finish of 0 more threads\n",
      "2022-03-01 09:06:53,715 : INFO : EPOCH - 3 : training on 119127 raw words (59245 effective words) took 0.2s, 264750 effective words/s\n",
      "2022-03-01 09:06:53,924 : INFO : worker thread finished; awaiting finish of 2 more threads\n",
      "2022-03-01 09:06:53,939 : INFO : worker thread finished; awaiting finish of 1 more threads\n",
      "2022-03-01 09:06:53,943 : INFO : worker thread finished; awaiting finish of 0 more threads\n",
      "2022-03-01 09:06:53,944 : INFO : EPOCH - 4 : training on 119127 raw words (59002 effective words) took 0.2s, 262678 effective words/s\n",
      "2022-03-01 09:06:54,155 : INFO : worker thread finished; awaiting finish of 2 more threads\n",
      "2022-03-01 09:06:54,170 : INFO : worker thread finished; awaiting finish of 1 more threads\n",
      "2022-03-01 09:06:54,190 : INFO : worker thread finished; awaiting finish of 0 more threads\n",
      "2022-03-01 09:06:54,191 : INFO : EPOCH - 5 : training on 119127 raw words (58994 effective words) took 0.2s, 244564 effective words/s\n",
      "2022-03-01 09:06:54,396 : INFO : worker thread finished; awaiting finish of 2 more threads\n",
      "2022-03-01 09:06:54,413 : INFO : worker thread finished; awaiting finish of 1 more threads\n",
      "2022-03-01 09:06:54,426 : INFO : worker thread finished; awaiting finish of 0 more threads\n",
      "2022-03-01 09:06:54,427 : INFO : EPOCH - 6 : training on 119127 raw words (58988 effective words) took 0.2s, 254603 effective words/s\n",
      "2022-03-01 09:06:54,625 : INFO : worker thread finished; awaiting finish of 2 more threads\n",
      "2022-03-01 09:06:54,644 : INFO : worker thread finished; awaiting finish of 1 more threads\n",
      "2022-03-01 09:06:54,661 : INFO : worker thread finished; awaiting finish of 0 more threads\n",
      "2022-03-01 09:06:54,662 : INFO : EPOCH - 7 : training on 119127 raw words (59334 effective words) took 0.2s, 258460 effective words/s\n",
      "2022-03-01 09:06:54,879 : INFO : worker thread finished; awaiting finish of 2 more threads\n",
      "2022-03-01 09:06:54,887 : INFO : worker thread finished; awaiting finish of 1 more threads\n",
      "2022-03-01 09:06:54,892 : INFO : worker thread finished; awaiting finish of 0 more threads\n",
      "2022-03-01 09:06:54,893 : INFO : EPOCH - 8 : training on 119127 raw words (59074 effective words) took 0.2s, 260753 effective words/s\n",
      "2022-03-01 09:06:55,110 : INFO : worker thread finished; awaiting finish of 2 more threads\n",
      "2022-03-01 09:06:55,112 : INFO : worker thread finished; awaiting finish of 1 more threads\n",
      "2022-03-01 09:06:55,124 : INFO : worker thread finished; awaiting finish of 0 more threads\n",
      "2022-03-01 09:06:55,125 : INFO : EPOCH - 9 : training on 119127 raw words (59037 effective words) took 0.2s, 259814 effective words/s\n",
      "2022-03-01 09:06:55,323 : INFO : worker thread finished; awaiting finish of 2 more threads\n",
      "2022-03-01 09:06:55,347 : INFO : worker thread finished; awaiting finish of 1 more threads\n",
      "2022-03-01 09:06:55,357 : INFO : worker thread finished; awaiting finish of 0 more threads\n",
      "2022-03-01 09:06:55,357 : INFO : EPOCH - 10 : training on 119127 raw words (59178 effective words) took 0.2s, 261188 effective words/s\n",
      "2022-03-01 09:06:55,560 : INFO : worker thread finished; awaiting finish of 2 more threads\n",
      "2022-03-01 09:06:55,583 : INFO : worker thread finished; awaiting finish of 1 more threads\n",
      "2022-03-01 09:06:55,590 : INFO : worker thread finished; awaiting finish of 0 more threads\n",
      "2022-03-01 09:06:55,592 : INFO : EPOCH - 11 : training on 119127 raw words (59054 effective words) took 0.2s, 256440 effective words/s\n",
      "2022-03-01 09:06:55,782 : INFO : worker thread finished; awaiting finish of 2 more threads\n",
      "2022-03-01 09:06:55,810 : INFO : worker thread finished; awaiting finish of 1 more threads\n",
      "2022-03-01 09:06:55,823 : INFO : worker thread finished; awaiting finish of 0 more threads\n",
      "2022-03-01 09:06:55,823 : INFO : EPOCH - 12 : training on 119127 raw words (58943 effective words) took 0.2s, 259045 effective words/s\n",
      "2022-03-01 09:06:56,018 : INFO : worker thread finished; awaiting finish of 2 more threads\n",
      "2022-03-01 09:06:56,053 : INFO : worker thread finished; awaiting finish of 1 more threads\n",
      "2022-03-01 09:06:56,071 : INFO : worker thread finished; awaiting finish of 0 more threads\n",
      "2022-03-01 09:06:56,072 : INFO : EPOCH - 13 : training on 119127 raw words (59065 effective words) took 0.2s, 243453 effective words/s\n",
      "2022-03-01 09:06:56,280 : INFO : worker thread finished; awaiting finish of 2 more threads\n",
      "2022-03-01 09:06:56,307 : INFO : worker thread finished; awaiting finish of 1 more threads\n",
      "2022-03-01 09:06:56,324 : INFO : worker thread finished; awaiting finish of 0 more threads\n",
      "2022-03-01 09:06:56,324 : INFO : EPOCH - 14 : training on 119127 raw words (59195 effective words) took 0.2s, 238175 effective words/s\n",
      "2022-03-01 09:06:56,525 : INFO : worker thread finished; awaiting finish of 2 more threads\n",
      "2022-03-01 09:06:56,551 : INFO : worker thread finished; awaiting finish of 1 more threads\n",
      "2022-03-01 09:06:56,562 : INFO : worker thread finished; awaiting finish of 0 more threads\n",
      "2022-03-01 09:06:56,563 : INFO : EPOCH - 15 : training on 119127 raw words (59103 effective words) took 0.2s, 254265 effective words/s\n",
      "2022-03-01 09:06:56,762 : INFO : worker thread finished; awaiting finish of 2 more threads\n",
      "2022-03-01 09:06:56,779 : INFO : worker thread finished; awaiting finish of 1 more threads\n",
      "2022-03-01 09:06:56,790 : INFO : worker thread finished; awaiting finish of 0 more threads\n",
      "2022-03-01 09:06:56,791 : INFO : EPOCH - 16 : training on 119127 raw words (59066 effective words) took 0.2s, 263700 effective words/s\n",
      "2022-03-01 09:06:56,994 : INFO : worker thread finished; awaiting finish of 2 more threads\n",
      "2022-03-01 09:06:57,016 : INFO : worker thread finished; awaiting finish of 1 more threads\n",
      "2022-03-01 09:06:57,027 : INFO : worker thread finished; awaiting finish of 0 more threads\n",
      "2022-03-01 09:06:57,028 : INFO : EPOCH - 17 : training on 119127 raw words (59120 effective words) took 0.2s, 254059 effective words/s\n",
      "2022-03-01 09:06:57,230 : INFO : worker thread finished; awaiting finish of 2 more threads\n",
      "2022-03-01 09:06:57,251 : INFO : worker thread finished; awaiting finish of 1 more threads\n",
      "2022-03-01 09:06:57,258 : INFO : worker thread finished; awaiting finish of 0 more threads\n",
      "2022-03-01 09:06:57,258 : INFO : EPOCH - 18 : training on 119127 raw words (58979 effective words) took 0.2s, 260989 effective words/s\n",
      "2022-03-01 09:06:57,472 : INFO : worker thread finished; awaiting finish of 2 more threads\n",
      "2022-03-01 09:06:57,485 : INFO : worker thread finished; awaiting finish of 1 more threads\n",
      "2022-03-01 09:06:57,494 : INFO : worker thread finished; awaiting finish of 0 more threads\n",
      "2022-03-01 09:06:57,495 : INFO : EPOCH - 19 : training on 119127 raw words (59191 effective words) took 0.2s, 255354 effective words/s\n",
      "2022-03-01 09:06:57,695 : INFO : worker thread finished; awaiting finish of 2 more threads\n"
     ]
    },
    {
     "name": "stderr",
     "output_type": "stream",
     "text": [
      "2022-03-01 09:06:57,716 : INFO : worker thread finished; awaiting finish of 1 more threads\n",
      "2022-03-01 09:06:57,730 : INFO : worker thread finished; awaiting finish of 0 more threads\n",
      "2022-03-01 09:06:57,731 : INFO : EPOCH - 20 : training on 119127 raw words (59054 effective words) took 0.2s, 255119 effective words/s\n",
      "2022-03-01 09:06:57,936 : INFO : worker thread finished; awaiting finish of 2 more threads\n",
      "2022-03-01 09:06:57,948 : INFO : worker thread finished; awaiting finish of 1 more threads\n",
      "2022-03-01 09:06:57,963 : INFO : worker thread finished; awaiting finish of 0 more threads\n",
      "2022-03-01 09:06:57,964 : INFO : EPOCH - 21 : training on 119127 raw words (58987 effective words) took 0.2s, 259677 effective words/s\n",
      "2022-03-01 09:06:58,194 : INFO : worker thread finished; awaiting finish of 2 more threads\n",
      "2022-03-01 09:06:58,202 : INFO : worker thread finished; awaiting finish of 1 more threads\n",
      "2022-03-01 09:06:58,225 : INFO : worker thread finished; awaiting finish of 0 more threads\n",
      "2022-03-01 09:06:58,226 : INFO : EPOCH - 22 : training on 119127 raw words (58960 effective words) took 0.3s, 228586 effective words/s\n",
      "2022-03-01 09:06:58,435 : INFO : worker thread finished; awaiting finish of 2 more threads\n",
      "2022-03-01 09:06:58,451 : INFO : worker thread finished; awaiting finish of 1 more threads\n",
      "2022-03-01 09:06:58,465 : INFO : worker thread finished; awaiting finish of 0 more threads\n",
      "2022-03-01 09:06:58,466 : INFO : EPOCH - 23 : training on 119127 raw words (58959 effective words) took 0.2s, 250577 effective words/s\n",
      "2022-03-01 09:06:58,671 : INFO : worker thread finished; awaiting finish of 2 more threads\n",
      "2022-03-01 09:06:58,692 : INFO : worker thread finished; awaiting finish of 1 more threads\n",
      "2022-03-01 09:06:58,700 : INFO : worker thread finished; awaiting finish of 0 more threads\n",
      "2022-03-01 09:06:58,700 : INFO : EPOCH - 24 : training on 119127 raw words (59090 effective words) took 0.2s, 257262 effective words/s\n",
      "2022-03-01 09:06:58,918 : INFO : worker thread finished; awaiting finish of 2 more threads\n",
      "2022-03-01 09:06:58,919 : INFO : worker thread finished; awaiting finish of 1 more threads\n",
      "2022-03-01 09:06:58,942 : INFO : worker thread finished; awaiting finish of 0 more threads\n",
      "2022-03-01 09:06:58,942 : INFO : EPOCH - 25 : training on 119127 raw words (59091 effective words) took 0.2s, 248744 effective words/s\n",
      "2022-03-01 09:06:59,141 : INFO : worker thread finished; awaiting finish of 2 more threads\n",
      "2022-03-01 09:06:59,169 : INFO : worker thread finished; awaiting finish of 1 more threads\n",
      "2022-03-01 09:06:59,185 : INFO : worker thread finished; awaiting finish of 0 more threads\n",
      "2022-03-01 09:06:59,186 : INFO : EPOCH - 26 : training on 119127 raw words (58893 effective words) took 0.2s, 247377 effective words/s\n",
      "2022-03-01 09:06:59,399 : INFO : worker thread finished; awaiting finish of 2 more threads\n",
      "2022-03-01 09:06:59,415 : INFO : worker thread finished; awaiting finish of 1 more threads\n",
      "2022-03-01 09:06:59,418 : INFO : worker thread finished; awaiting finish of 0 more threads\n",
      "2022-03-01 09:06:59,419 : INFO : EPOCH - 27 : training on 119127 raw words (59078 effective words) took 0.2s, 257290 effective words/s\n",
      "2022-03-01 09:06:59,621 : INFO : worker thread finished; awaiting finish of 2 more threads\n",
      "2022-03-01 09:06:59,637 : INFO : worker thread finished; awaiting finish of 1 more threads\n",
      "2022-03-01 09:06:59,651 : INFO : worker thread finished; awaiting finish of 0 more threads\n",
      "2022-03-01 09:06:59,651 : INFO : EPOCH - 28 : training on 119127 raw words (58882 effective words) took 0.2s, 258241 effective words/s\n",
      "2022-03-01 09:06:59,856 : INFO : worker thread finished; awaiting finish of 2 more threads\n",
      "2022-03-01 09:06:59,876 : INFO : worker thread finished; awaiting finish of 1 more threads\n",
      "2022-03-01 09:06:59,884 : INFO : worker thread finished; awaiting finish of 0 more threads\n",
      "2022-03-01 09:06:59,885 : INFO : EPOCH - 29 : training on 119127 raw words (58983 effective words) took 0.2s, 257581 effective words/s\n",
      "2022-03-01 09:07:00,090 : INFO : worker thread finished; awaiting finish of 2 more threads\n",
      "2022-03-01 09:07:00,109 : INFO : worker thread finished; awaiting finish of 1 more threads\n",
      "2022-03-01 09:07:00,120 : INFO : worker thread finished; awaiting finish of 0 more threads\n",
      "2022-03-01 09:07:00,120 : INFO : EPOCH - 30 : training on 119127 raw words (59159 effective words) took 0.2s, 256842 effective words/s\n",
      "2022-03-01 09:07:00,322 : INFO : worker thread finished; awaiting finish of 2 more threads\n",
      "2022-03-01 09:07:00,338 : INFO : worker thread finished; awaiting finish of 1 more threads\n",
      "2022-03-01 09:07:00,346 : INFO : worker thread finished; awaiting finish of 0 more threads\n",
      "2022-03-01 09:07:00,347 : INFO : EPOCH - 31 : training on 119127 raw words (59140 effective words) took 0.2s, 266302 effective words/s\n",
      "2022-03-01 09:07:00,556 : INFO : worker thread finished; awaiting finish of 2 more threads\n",
      "2022-03-01 09:07:00,587 : INFO : worker thread finished; awaiting finish of 1 more threads\n",
      "2022-03-01 09:07:00,613 : INFO : worker thread finished; awaiting finish of 0 more threads\n",
      "2022-03-01 09:07:00,614 : INFO : EPOCH - 32 : training on 119127 raw words (59111 effective words) took 0.3s, 225293 effective words/s\n",
      "2022-03-01 09:07:00,828 : INFO : worker thread finished; awaiting finish of 2 more threads\n",
      "2022-03-01 09:07:00,832 : INFO : worker thread finished; awaiting finish of 1 more threads\n",
      "2022-03-01 09:07:00,854 : INFO : worker thread finished; awaiting finish of 0 more threads\n",
      "2022-03-01 09:07:00,855 : INFO : EPOCH - 33 : training on 119127 raw words (59315 effective words) took 0.2s, 250678 effective words/s\n",
      "2022-03-01 09:07:01,063 : INFO : worker thread finished; awaiting finish of 2 more threads\n",
      "2022-03-01 09:07:01,088 : INFO : worker thread finished; awaiting finish of 1 more threads\n",
      "2022-03-01 09:07:01,089 : INFO : worker thread finished; awaiting finish of 0 more threads\n",
      "2022-03-01 09:07:01,090 : INFO : EPOCH - 34 : training on 119127 raw words (59079 effective words) took 0.2s, 256240 effective words/s\n",
      "2022-03-01 09:07:01,301 : INFO : worker thread finished; awaiting finish of 2 more threads\n",
      "2022-03-01 09:07:01,304 : INFO : worker thread finished; awaiting finish of 1 more threads\n",
      "2022-03-01 09:07:01,323 : INFO : worker thread finished; awaiting finish of 0 more threads\n",
      "2022-03-01 09:07:01,324 : INFO : EPOCH - 35 : training on 119127 raw words (59083 effective words) took 0.2s, 256762 effective words/s\n",
      "2022-03-01 09:07:01,544 : INFO : worker thread finished; awaiting finish of 2 more threads\n",
      "2022-03-01 09:07:01,557 : INFO : worker thread finished; awaiting finish of 1 more threads\n",
      "2022-03-01 09:07:01,560 : INFO : worker thread finished; awaiting finish of 0 more threads\n",
      "2022-03-01 09:07:01,561 : INFO : EPOCH - 36 : training on 119127 raw words (59038 effective words) took 0.2s, 254976 effective words/s\n",
      "2022-03-01 09:07:01,770 : INFO : worker thread finished; awaiting finish of 2 more threads\n",
      "2022-03-01 09:07:01,774 : INFO : worker thread finished; awaiting finish of 1 more threads\n",
      "2022-03-01 09:07:01,796 : INFO : worker thread finished; awaiting finish of 0 more threads\n",
      "2022-03-01 09:07:01,797 : INFO : EPOCH - 37 : training on 119127 raw words (59105 effective words) took 0.2s, 255361 effective words/s\n",
      "2022-03-01 09:07:02,032 : INFO : worker thread finished; awaiting finish of 2 more threads\n",
      "2022-03-01 09:07:02,037 : INFO : worker thread finished; awaiting finish of 1 more threads\n",
      "2022-03-01 09:07:02,062 : INFO : worker thread finished; awaiting finish of 0 more threads\n",
      "2022-03-01 09:07:02,063 : INFO : EPOCH - 38 : training on 119127 raw words (59108 effective words) took 0.3s, 225913 effective words/s\n",
      "2022-03-01 09:07:02,268 : INFO : worker thread finished; awaiting finish of 2 more threads\n",
      "2022-03-01 09:07:02,282 : INFO : worker thread finished; awaiting finish of 1 more threads\n",
      "2022-03-01 09:07:02,293 : INFO : worker thread finished; awaiting finish of 0 more threads\n",
      "2022-03-01 09:07:02,294 : INFO : EPOCH - 39 : training on 119127 raw words (59076 effective words) took 0.2s, 260012 effective words/s\n",
      "2022-03-01 09:07:02,523 : INFO : worker thread finished; awaiting finish of 2 more threads\n",
      "2022-03-01 09:07:02,536 : INFO : worker thread finished; awaiting finish of 1 more threads\n"
     ]
    },
    {
     "name": "stderr",
     "output_type": "stream",
     "text": [
      "2022-03-01 09:07:02,541 : INFO : worker thread finished; awaiting finish of 0 more threads\n",
      "2022-03-01 09:07:02,542 : INFO : EPOCH - 40 : training on 119127 raw words (58975 effective words) took 0.2s, 242954 effective words/s\n",
      "2022-03-01 09:07:02,764 : INFO : worker thread finished; awaiting finish of 2 more threads\n",
      "2022-03-01 09:07:02,765 : INFO : worker thread finished; awaiting finish of 1 more threads\n",
      "2022-03-01 09:07:02,783 : INFO : worker thread finished; awaiting finish of 0 more threads\n",
      "2022-03-01 09:07:02,784 : INFO : EPOCH - 41 : training on 119127 raw words (59014 effective words) took 0.2s, 248112 effective words/s\n",
      "2022-03-01 09:07:03,009 : INFO : worker thread finished; awaiting finish of 2 more threads\n",
      "2022-03-01 09:07:03,012 : INFO : worker thread finished; awaiting finish of 1 more threads\n",
      "2022-03-01 09:07:03,022 : INFO : worker thread finished; awaiting finish of 0 more threads\n",
      "2022-03-01 09:07:03,023 : INFO : EPOCH - 42 : training on 119127 raw words (59026 effective words) took 0.2s, 251661 effective words/s\n",
      "2022-03-01 09:07:03,253 : INFO : worker thread finished; awaiting finish of 2 more threads\n",
      "2022-03-01 09:07:03,255 : INFO : worker thread finished; awaiting finish of 1 more threads\n",
      "2022-03-01 09:07:03,272 : INFO : worker thread finished; awaiting finish of 0 more threads\n",
      "2022-03-01 09:07:03,273 : INFO : EPOCH - 43 : training on 119127 raw words (59206 effective words) took 0.2s, 241735 effective words/s\n",
      "2022-03-01 09:07:03,474 : INFO : worker thread finished; awaiting finish of 2 more threads\n",
      "2022-03-01 09:07:03,490 : INFO : worker thread finished; awaiting finish of 1 more threads\n",
      "2022-03-01 09:07:03,496 : INFO : worker thread finished; awaiting finish of 0 more threads\n",
      "2022-03-01 09:07:03,497 : INFO : EPOCH - 44 : training on 119127 raw words (59240 effective words) took 0.2s, 270642 effective words/s\n",
      "2022-03-01 09:07:03,708 : INFO : worker thread finished; awaiting finish of 2 more threads\n",
      "2022-03-01 09:07:03,720 : INFO : worker thread finished; awaiting finish of 1 more threads\n",
      "2022-03-01 09:07:03,730 : INFO : worker thread finished; awaiting finish of 0 more threads\n",
      "2022-03-01 09:07:03,731 : INFO : EPOCH - 45 : training on 119127 raw words (58850 effective words) took 0.2s, 256025 effective words/s\n",
      "2022-03-01 09:07:03,928 : INFO : worker thread finished; awaiting finish of 2 more threads\n",
      "2022-03-01 09:07:03,946 : INFO : worker thread finished; awaiting finish of 1 more threads\n",
      "2022-03-01 09:07:03,955 : INFO : worker thread finished; awaiting finish of 0 more threads\n",
      "2022-03-01 09:07:03,955 : INFO : EPOCH - 46 : training on 119127 raw words (59156 effective words) took 0.2s, 268723 effective words/s\n",
      "2022-03-01 09:07:04,153 : INFO : worker thread finished; awaiting finish of 2 more threads\n",
      "2022-03-01 09:07:04,178 : INFO : worker thread finished; awaiting finish of 1 more threads\n",
      "2022-03-01 09:07:04,194 : INFO : worker thread finished; awaiting finish of 0 more threads\n",
      "2022-03-01 09:07:04,195 : INFO : EPOCH - 47 : training on 119127 raw words (59188 effective words) took 0.2s, 251870 effective words/s\n",
      "2022-03-01 09:07:04,403 : INFO : worker thread finished; awaiting finish of 2 more threads\n",
      "2022-03-01 09:07:04,415 : INFO : worker thread finished; awaiting finish of 1 more threads\n",
      "2022-03-01 09:07:04,432 : INFO : worker thread finished; awaiting finish of 0 more threads\n",
      "2022-03-01 09:07:04,432 : INFO : EPOCH - 48 : training on 119127 raw words (58937 effective words) took 0.2s, 253175 effective words/s\n",
      "2022-03-01 09:07:04,649 : INFO : worker thread finished; awaiting finish of 2 more threads\n",
      "2022-03-01 09:07:04,668 : INFO : worker thread finished; awaiting finish of 1 more threads\n",
      "2022-03-01 09:07:04,680 : INFO : worker thread finished; awaiting finish of 0 more threads\n",
      "2022-03-01 09:07:04,680 : INFO : EPOCH - 49 : training on 119127 raw words (58998 effective words) took 0.2s, 243080 effective words/s\n",
      "2022-03-01 09:07:04,881 : INFO : worker thread finished; awaiting finish of 2 more threads\n",
      "2022-03-01 09:07:04,898 : INFO : worker thread finished; awaiting finish of 1 more threads\n",
      "2022-03-01 09:07:04,906 : INFO : worker thread finished; awaiting finish of 0 more threads\n",
      "2022-03-01 09:07:04,906 : INFO : EPOCH - 50 : training on 119127 raw words (58989 effective words) took 0.2s, 266532 effective words/s\n",
      "2022-03-01 09:07:05,112 : INFO : worker thread finished; awaiting finish of 2 more threads\n",
      "2022-03-01 09:07:05,135 : INFO : worker thread finished; awaiting finish of 1 more threads\n",
      "2022-03-01 09:07:05,136 : INFO : worker thread finished; awaiting finish of 0 more threads\n",
      "2022-03-01 09:07:05,136 : INFO : EPOCH - 51 : training on 119127 raw words (59072 effective words) took 0.2s, 261529 effective words/s\n",
      "2022-03-01 09:07:05,342 : INFO : worker thread finished; awaiting finish of 2 more threads\n",
      "2022-03-01 09:07:05,354 : INFO : worker thread finished; awaiting finish of 1 more threads\n",
      "2022-03-01 09:07:05,366 : INFO : worker thread finished; awaiting finish of 0 more threads\n",
      "2022-03-01 09:07:05,367 : INFO : EPOCH - 52 : training on 119127 raw words (59025 effective words) took 0.2s, 260229 effective words/s\n",
      "2022-03-01 09:07:05,561 : INFO : worker thread finished; awaiting finish of 2 more threads\n",
      "2022-03-01 09:07:05,600 : INFO : worker thread finished; awaiting finish of 1 more threads\n",
      "2022-03-01 09:07:05,614 : INFO : worker thread finished; awaiting finish of 0 more threads\n",
      "2022-03-01 09:07:05,614 : INFO : EPOCH - 53 : training on 119127 raw words (59159 effective words) took 0.2s, 244151 effective words/s\n",
      "2022-03-01 09:07:05,826 : INFO : worker thread finished; awaiting finish of 2 more threads\n",
      "2022-03-01 09:07:05,835 : INFO : worker thread finished; awaiting finish of 1 more threads\n",
      "2022-03-01 09:07:05,840 : INFO : worker thread finished; awaiting finish of 0 more threads\n",
      "2022-03-01 09:07:05,841 : INFO : EPOCH - 54 : training on 119127 raw words (59024 effective words) took 0.2s, 266188 effective words/s\n",
      "2022-03-01 09:07:06,047 : INFO : worker thread finished; awaiting finish of 2 more threads\n",
      "2022-03-01 09:07:06,062 : INFO : worker thread finished; awaiting finish of 1 more threads\n",
      "2022-03-01 09:07:06,075 : INFO : worker thread finished; awaiting finish of 0 more threads\n",
      "2022-03-01 09:07:06,075 : INFO : EPOCH - 55 : training on 119127 raw words (59253 effective words) took 0.2s, 255739 effective words/s\n",
      "2022-03-01 09:07:06,295 : INFO : worker thread finished; awaiting finish of 2 more threads\n",
      "2022-03-01 09:07:06,316 : INFO : worker thread finished; awaiting finish of 1 more threads\n",
      "2022-03-01 09:07:06,329 : INFO : worker thread finished; awaiting finish of 0 more threads\n",
      "2022-03-01 09:07:06,329 : INFO : EPOCH - 56 : training on 119127 raw words (59221 effective words) took 0.2s, 238802 effective words/s\n",
      "2022-03-01 09:07:06,551 : INFO : worker thread finished; awaiting finish of 2 more threads\n",
      "2022-03-01 09:07:06,552 : INFO : worker thread finished; awaiting finish of 1 more threads\n",
      "2022-03-01 09:07:06,574 : INFO : worker thread finished; awaiting finish of 0 more threads\n",
      "2022-03-01 09:07:06,575 : INFO : EPOCH - 57 : training on 119127 raw words (59159 effective words) took 0.2s, 244760 effective words/s\n",
      "2022-03-01 09:07:06,775 : INFO : worker thread finished; awaiting finish of 2 more threads\n",
      "2022-03-01 09:07:06,788 : INFO : worker thread finished; awaiting finish of 1 more threads\n",
      "2022-03-01 09:07:06,803 : INFO : worker thread finished; awaiting finish of 0 more threads\n",
      "2022-03-01 09:07:06,804 : INFO : EPOCH - 58 : training on 119127 raw words (58980 effective words) took 0.2s, 262322 effective words/s\n",
      "2022-03-01 09:07:07,007 : INFO : worker thread finished; awaiting finish of 2 more threads\n",
      "2022-03-01 09:07:07,045 : INFO : worker thread finished; awaiting finish of 1 more threads\n",
      "2022-03-01 09:07:07,047 : INFO : worker thread finished; awaiting finish of 0 more threads\n",
      "2022-03-01 09:07:07,048 : INFO : EPOCH - 59 : training on 119127 raw words (59168 effective words) took 0.2s, 246661 effective words/s\n",
      "2022-03-01 09:07:07,260 : INFO : worker thread finished; awaiting finish of 2 more threads\n",
      "2022-03-01 09:07:07,278 : INFO : worker thread finished; awaiting finish of 1 more threads\n",
      "2022-03-01 09:07:07,296 : INFO : worker thread finished; awaiting finish of 0 more threads\n"
     ]
    },
    {
     "name": "stderr",
     "output_type": "stream",
     "text": [
      "2022-03-01 09:07:07,297 : INFO : EPOCH - 60 : training on 119127 raw words (59247 effective words) took 0.2s, 242780 effective words/s\n",
      "2022-03-01 09:07:07,501 : INFO : worker thread finished; awaiting finish of 2 more threads\n",
      "2022-03-01 09:07:07,513 : INFO : worker thread finished; awaiting finish of 1 more threads\n",
      "2022-03-01 09:07:07,528 : INFO : worker thread finished; awaiting finish of 0 more threads\n",
      "2022-03-01 09:07:07,530 : INFO : EPOCH - 61 : training on 119127 raw words (59152 effective words) took 0.2s, 258654 effective words/s\n",
      "2022-03-01 09:07:07,714 : INFO : worker thread finished; awaiting finish of 2 more threads\n",
      "2022-03-01 09:07:07,749 : INFO : worker thread finished; awaiting finish of 1 more threads\n",
      "2022-03-01 09:07:07,761 : INFO : worker thread finished; awaiting finish of 0 more threads\n",
      "2022-03-01 09:07:07,762 : INFO : EPOCH - 62 : training on 119127 raw words (59048 effective words) took 0.2s, 258279 effective words/s\n",
      "2022-03-01 09:07:07,954 : INFO : worker thread finished; awaiting finish of 2 more threads\n",
      "2022-03-01 09:07:07,978 : INFO : worker thread finished; awaiting finish of 1 more threads\n",
      "2022-03-01 09:07:07,988 : INFO : worker thread finished; awaiting finish of 0 more threads\n",
      "2022-03-01 09:07:07,989 : INFO : EPOCH - 63 : training on 119127 raw words (59063 effective words) took 0.2s, 265760 effective words/s\n",
      "2022-03-01 09:07:08,185 : INFO : worker thread finished; awaiting finish of 2 more threads\n",
      "2022-03-01 09:07:08,202 : INFO : worker thread finished; awaiting finish of 1 more threads\n",
      "2022-03-01 09:07:08,210 : INFO : worker thread finished; awaiting finish of 0 more threads\n",
      "2022-03-01 09:07:08,210 : INFO : EPOCH - 64 : training on 119127 raw words (59094 effective words) took 0.2s, 270916 effective words/s\n",
      "2022-03-01 09:07:08,408 : INFO : worker thread finished; awaiting finish of 2 more threads\n",
      "2022-03-01 09:07:08,424 : INFO : worker thread finished; awaiting finish of 1 more threads\n",
      "2022-03-01 09:07:08,439 : INFO : worker thread finished; awaiting finish of 0 more threads\n",
      "2022-03-01 09:07:08,440 : INFO : EPOCH - 65 : training on 119127 raw words (59081 effective words) took 0.2s, 262582 effective words/s\n",
      "2022-03-01 09:07:08,637 : INFO : worker thread finished; awaiting finish of 2 more threads\n",
      "2022-03-01 09:07:08,658 : INFO : worker thread finished; awaiting finish of 1 more threads\n",
      "2022-03-01 09:07:08,669 : INFO : worker thread finished; awaiting finish of 0 more threads\n",
      "2022-03-01 09:07:08,669 : INFO : EPOCH - 66 : training on 119127 raw words (59135 effective words) took 0.2s, 264631 effective words/s\n",
      "2022-03-01 09:07:08,881 : INFO : worker thread finished; awaiting finish of 2 more threads\n",
      "2022-03-01 09:07:08,885 : INFO : worker thread finished; awaiting finish of 1 more threads\n",
      "2022-03-01 09:07:08,908 : INFO : worker thread finished; awaiting finish of 0 more threads\n",
      "2022-03-01 09:07:08,908 : INFO : EPOCH - 67 : training on 119127 raw words (58932 effective words) took 0.2s, 249169 effective words/s\n",
      "2022-03-01 09:07:09,114 : INFO : worker thread finished; awaiting finish of 2 more threads\n",
      "2022-03-01 09:07:09,129 : INFO : worker thread finished; awaiting finish of 1 more threads\n",
      "2022-03-01 09:07:09,137 : INFO : worker thread finished; awaiting finish of 0 more threads\n",
      "2022-03-01 09:07:09,138 : INFO : EPOCH - 68 : training on 119127 raw words (59266 effective words) took 0.2s, 264829 effective words/s\n",
      "2022-03-01 09:07:09,356 : INFO : worker thread finished; awaiting finish of 2 more threads\n",
      "2022-03-01 09:07:09,366 : INFO : worker thread finished; awaiting finish of 1 more threads\n",
      "2022-03-01 09:07:09,371 : INFO : worker thread finished; awaiting finish of 0 more threads\n",
      "2022-03-01 09:07:09,372 : INFO : EPOCH - 69 : training on 119127 raw words (58957 effective words) took 0.2s, 256344 effective words/s\n",
      "2022-03-01 09:07:09,586 : INFO : worker thread finished; awaiting finish of 2 more threads\n",
      "2022-03-01 09:07:09,601 : INFO : worker thread finished; awaiting finish of 1 more threads\n",
      "2022-03-01 09:07:09,603 : INFO : worker thread finished; awaiting finish of 0 more threads\n",
      "2022-03-01 09:07:09,603 : INFO : EPOCH - 70 : training on 119127 raw words (59351 effective words) took 0.2s, 261784 effective words/s\n",
      "2022-03-01 09:07:09,798 : INFO : worker thread finished; awaiting finish of 2 more threads\n",
      "2022-03-01 09:07:09,819 : INFO : worker thread finished; awaiting finish of 1 more threads\n",
      "2022-03-01 09:07:09,831 : INFO : worker thread finished; awaiting finish of 0 more threads\n",
      "2022-03-01 09:07:09,832 : INFO : EPOCH - 71 : training on 119127 raw words (58989 effective words) took 0.2s, 263038 effective words/s\n",
      "2022-03-01 09:07:10,033 : INFO : worker thread finished; awaiting finish of 2 more threads\n",
      "2022-03-01 09:07:10,047 : INFO : worker thread finished; awaiting finish of 1 more threads\n",
      "2022-03-01 09:07:10,062 : INFO : worker thread finished; awaiting finish of 0 more threads\n",
      "2022-03-01 09:07:10,063 : INFO : EPOCH - 72 : training on 119127 raw words (59071 effective words) took 0.2s, 261578 effective words/s\n",
      "2022-03-01 09:07:10,251 : INFO : worker thread finished; awaiting finish of 2 more threads\n",
      "2022-03-01 09:07:10,285 : INFO : worker thread finished; awaiting finish of 1 more threads\n",
      "2022-03-01 09:07:10,298 : INFO : worker thread finished; awaiting finish of 0 more threads\n",
      "2022-03-01 09:07:10,299 : INFO : EPOCH - 73 : training on 119127 raw words (59010 effective words) took 0.2s, 253879 effective words/s\n",
      "2022-03-01 09:07:10,505 : INFO : worker thread finished; awaiting finish of 2 more threads\n",
      "2022-03-01 09:07:10,514 : INFO : worker thread finished; awaiting finish of 1 more threads\n",
      "2022-03-01 09:07:10,529 : INFO : worker thread finished; awaiting finish of 0 more threads\n",
      "2022-03-01 09:07:10,530 : INFO : EPOCH - 74 : training on 119127 raw words (59270 effective words) took 0.2s, 262927 effective words/s\n",
      "2022-03-01 09:07:10,727 : INFO : worker thread finished; awaiting finish of 2 more threads\n",
      "2022-03-01 09:07:10,741 : INFO : worker thread finished; awaiting finish of 1 more threads\n",
      "2022-03-01 09:07:10,759 : INFO : worker thread finished; awaiting finish of 0 more threads\n",
      "2022-03-01 09:07:10,760 : INFO : EPOCH - 75 : training on 119127 raw words (59093 effective words) took 0.2s, 261061 effective words/s\n",
      "2022-03-01 09:07:10,952 : INFO : worker thread finished; awaiting finish of 2 more threads\n",
      "2022-03-01 09:07:10,972 : INFO : worker thread finished; awaiting finish of 1 more threads\n",
      "2022-03-01 09:07:10,998 : INFO : worker thread finished; awaiting finish of 0 more threads\n",
      "2022-03-01 09:07:10,999 : INFO : EPOCH - 76 : training on 119127 raw words (59120 effective words) took 0.2s, 252051 effective words/s\n",
      "2022-03-01 09:07:11,198 : INFO : worker thread finished; awaiting finish of 2 more threads\n",
      "2022-03-01 09:07:11,215 : INFO : worker thread finished; awaiting finish of 1 more threads\n",
      "2022-03-01 09:07:11,223 : INFO : worker thread finished; awaiting finish of 0 more threads\n",
      "2022-03-01 09:07:11,224 : INFO : EPOCH - 77 : training on 119127 raw words (58981 effective words) took 0.2s, 267246 effective words/s\n",
      "2022-03-01 09:07:11,436 : INFO : worker thread finished; awaiting finish of 2 more threads\n",
      "2022-03-01 09:07:11,451 : INFO : worker thread finished; awaiting finish of 1 more threads\n",
      "2022-03-01 09:07:11,456 : INFO : worker thread finished; awaiting finish of 0 more threads\n",
      "2022-03-01 09:07:11,457 : INFO : EPOCH - 78 : training on 119127 raw words (59314 effective words) took 0.2s, 260243 effective words/s\n",
      "2022-03-01 09:07:11,651 : INFO : worker thread finished; awaiting finish of 2 more threads\n",
      "2022-03-01 09:07:11,670 : INFO : worker thread finished; awaiting finish of 1 more threads\n",
      "2022-03-01 09:07:11,684 : INFO : worker thread finished; awaiting finish of 0 more threads\n",
      "2022-03-01 09:07:11,685 : INFO : EPOCH - 79 : training on 119127 raw words (59086 effective words) took 0.2s, 264365 effective words/s\n",
      "2022-03-01 09:07:11,881 : INFO : worker thread finished; awaiting finish of 2 more threads\n",
      "2022-03-01 09:07:11,900 : INFO : worker thread finished; awaiting finish of 1 more threads\n",
      "2022-03-01 09:07:11,914 : INFO : worker thread finished; awaiting finish of 0 more threads\n",
      "2022-03-01 09:07:11,915 : INFO : EPOCH - 80 : training on 119127 raw words (59168 effective words) took 0.2s, 262136 effective words/s\n"
     ]
    },
    {
     "name": "stderr",
     "output_type": "stream",
     "text": [
      "2022-03-01 09:07:12,111 : INFO : worker thread finished; awaiting finish of 2 more threads\n",
      "2022-03-01 09:07:12,156 : INFO : worker thread finished; awaiting finish of 1 more threads\n",
      "2022-03-01 09:07:12,166 : INFO : worker thread finished; awaiting finish of 0 more threads\n",
      "2022-03-01 09:07:12,166 : INFO : EPOCH - 81 : training on 119127 raw words (59077 effective words) took 0.2s, 239015 effective words/s\n",
      "2022-03-01 09:07:12,367 : INFO : worker thread finished; awaiting finish of 2 more threads\n",
      "2022-03-01 09:07:12,384 : INFO : worker thread finished; awaiting finish of 1 more threads\n",
      "2022-03-01 09:07:12,394 : INFO : worker thread finished; awaiting finish of 0 more threads\n",
      "2022-03-01 09:07:12,395 : INFO : EPOCH - 82 : training on 119127 raw words (58908 effective words) took 0.2s, 264233 effective words/s\n",
      "2022-03-01 09:07:12,610 : INFO : worker thread finished; awaiting finish of 2 more threads\n",
      "2022-03-01 09:07:12,626 : INFO : worker thread finished; awaiting finish of 1 more threads\n",
      "2022-03-01 09:07:12,627 : INFO : worker thread finished; awaiting finish of 0 more threads\n",
      "2022-03-01 09:07:12,628 : INFO : EPOCH - 83 : training on 119127 raw words (59240 effective words) took 0.2s, 258735 effective words/s\n",
      "2022-03-01 09:07:12,847 : INFO : worker thread finished; awaiting finish of 2 more threads\n",
      "2022-03-01 09:07:12,857 : INFO : worker thread finished; awaiting finish of 1 more threads\n",
      "2022-03-01 09:07:12,867 : INFO : worker thread finished; awaiting finish of 0 more threads\n",
      "2022-03-01 09:07:12,868 : INFO : EPOCH - 84 : training on 119127 raw words (58851 effective words) took 0.2s, 249815 effective words/s\n",
      "2022-03-01 09:07:13,066 : INFO : worker thread finished; awaiting finish of 2 more threads\n",
      "2022-03-01 09:07:13,093 : INFO : worker thread finished; awaiting finish of 1 more threads\n",
      "2022-03-01 09:07:13,109 : INFO : worker thread finished; awaiting finish of 0 more threads\n",
      "2022-03-01 09:07:13,109 : INFO : EPOCH - 85 : training on 119127 raw words (59097 effective words) took 0.2s, 249604 effective words/s\n",
      "2022-03-01 09:07:13,316 : INFO : worker thread finished; awaiting finish of 2 more threads\n",
      "2022-03-01 09:07:13,326 : INFO : worker thread finished; awaiting finish of 1 more threads\n",
      "2022-03-01 09:07:13,350 : INFO : worker thread finished; awaiting finish of 0 more threads\n",
      "2022-03-01 09:07:13,350 : INFO : EPOCH - 86 : training on 119127 raw words (58953 effective words) took 0.2s, 246385 effective words/s\n",
      "2022-03-01 09:07:13,552 : INFO : worker thread finished; awaiting finish of 2 more threads\n",
      "2022-03-01 09:07:13,570 : INFO : worker thread finished; awaiting finish of 1 more threads\n",
      "2022-03-01 09:07:13,584 : INFO : worker thread finished; awaiting finish of 0 more threads\n",
      "2022-03-01 09:07:13,584 : INFO : EPOCH - 87 : training on 119127 raw words (59155 effective words) took 0.2s, 259933 effective words/s\n",
      "2022-03-01 09:07:13,782 : INFO : worker thread finished; awaiting finish of 2 more threads\n",
      "2022-03-01 09:07:13,822 : INFO : worker thread finished; awaiting finish of 1 more threads\n",
      "2022-03-01 09:07:13,839 : INFO : worker thread finished; awaiting finish of 0 more threads\n",
      "2022-03-01 09:07:13,839 : INFO : EPOCH - 88 : training on 119127 raw words (59120 effective words) took 0.3s, 235649 effective words/s\n",
      "2022-03-01 09:07:14,039 : INFO : worker thread finished; awaiting finish of 2 more threads\n",
      "2022-03-01 09:07:14,069 : INFO : worker thread finished; awaiting finish of 1 more threads\n",
      "2022-03-01 09:07:14,084 : INFO : worker thread finished; awaiting finish of 0 more threads\n",
      "2022-03-01 09:07:14,085 : INFO : EPOCH - 89 : training on 119127 raw words (59220 effective words) took 0.2s, 246055 effective words/s\n",
      "2022-03-01 09:07:14,294 : INFO : worker thread finished; awaiting finish of 2 more threads\n",
      "2022-03-01 09:07:14,302 : INFO : worker thread finished; awaiting finish of 1 more threads\n",
      "2022-03-01 09:07:14,326 : INFO : worker thread finished; awaiting finish of 0 more threads\n",
      "2022-03-01 09:07:14,327 : INFO : EPOCH - 90 : training on 119127 raw words (59016 effective words) took 0.2s, 248916 effective words/s\n",
      "2022-03-01 09:07:14,523 : INFO : worker thread finished; awaiting finish of 2 more threads\n",
      "2022-03-01 09:07:14,548 : INFO : worker thread finished; awaiting finish of 1 more threads\n",
      "2022-03-01 09:07:14,564 : INFO : worker thread finished; awaiting finish of 0 more threads\n",
      "2022-03-01 09:07:14,567 : INFO : EPOCH - 91 : training on 119127 raw words (58958 effective words) took 0.2s, 250080 effective words/s\n",
      "2022-03-01 09:07:14,776 : INFO : worker thread finished; awaiting finish of 2 more threads\n",
      "2022-03-01 09:07:14,789 : INFO : worker thread finished; awaiting finish of 1 more threads\n",
      "2022-03-01 09:07:14,801 : INFO : worker thread finished; awaiting finish of 0 more threads\n",
      "2022-03-01 09:07:14,802 : INFO : EPOCH - 92 : training on 119127 raw words (58993 effective words) took 0.2s, 255192 effective words/s\n",
      "2022-03-01 09:07:15,017 : INFO : worker thread finished; awaiting finish of 2 more threads\n",
      "2022-03-01 09:07:15,034 : INFO : worker thread finished; awaiting finish of 1 more threads\n",
      "2022-03-01 09:07:15,043 : INFO : worker thread finished; awaiting finish of 0 more threads\n",
      "2022-03-01 09:07:15,044 : INFO : EPOCH - 93 : training on 119127 raw words (59018 effective words) took 0.2s, 248342 effective words/s\n",
      "2022-03-01 09:07:15,250 : INFO : worker thread finished; awaiting finish of 2 more threads\n",
      "2022-03-01 09:07:15,264 : INFO : worker thread finished; awaiting finish of 1 more threads\n",
      "2022-03-01 09:07:15,280 : INFO : worker thread finished; awaiting finish of 0 more threads\n",
      "2022-03-01 09:07:15,281 : INFO : EPOCH - 94 : training on 119127 raw words (59117 effective words) took 0.2s, 253802 effective words/s\n",
      "2022-03-01 09:07:15,490 : INFO : worker thread finished; awaiting finish of 2 more threads\n",
      "2022-03-01 09:07:15,499 : INFO : worker thread finished; awaiting finish of 1 more threads\n",
      "2022-03-01 09:07:15,518 : INFO : worker thread finished; awaiting finish of 0 more threads\n",
      "2022-03-01 09:07:15,519 : INFO : EPOCH - 95 : training on 119127 raw words (59181 effective words) took 0.2s, 253558 effective words/s\n",
      "2022-03-01 09:07:15,734 : INFO : worker thread finished; awaiting finish of 2 more threads\n",
      "2022-03-01 09:07:15,749 : INFO : worker thread finished; awaiting finish of 1 more threads\n",
      "2022-03-01 09:07:15,753 : INFO : worker thread finished; awaiting finish of 0 more threads\n",
      "2022-03-01 09:07:15,754 : INFO : EPOCH - 96 : training on 119127 raw words (58841 effective words) took 0.2s, 254243 effective words/s\n",
      "2022-03-01 09:07:15,954 : INFO : worker thread finished; awaiting finish of 2 more threads\n",
      "2022-03-01 09:07:15,979 : INFO : worker thread finished; awaiting finish of 1 more threads\n",
      "2022-03-01 09:07:15,996 : INFO : worker thread finished; awaiting finish of 0 more threads\n",
      "2022-03-01 09:07:15,997 : INFO : EPOCH - 97 : training on 119127 raw words (59070 effective words) took 0.2s, 248358 effective words/s\n",
      "2022-03-01 09:07:16,210 : INFO : worker thread finished; awaiting finish of 2 more threads\n",
      "2022-03-01 09:07:16,223 : INFO : worker thread finished; awaiting finish of 1 more threads\n",
      "2022-03-01 09:07:16,244 : INFO : worker thread finished; awaiting finish of 0 more threads\n",
      "2022-03-01 09:07:16,246 : INFO : EPOCH - 98 : training on 119127 raw words (59036 effective words) took 0.2s, 240457 effective words/s\n",
      "2022-03-01 09:07:16,445 : INFO : worker thread finished; awaiting finish of 2 more threads\n",
      "2022-03-01 09:07:16,471 : INFO : worker thread finished; awaiting finish of 1 more threads\n",
      "2022-03-01 09:07:16,491 : INFO : worker thread finished; awaiting finish of 0 more threads\n",
      "2022-03-01 09:07:16,491 : INFO : EPOCH - 99 : training on 119127 raw words (59247 effective words) took 0.2s, 246145 effective words/s\n",
      "2022-03-01 09:07:16,694 : INFO : worker thread finished; awaiting finish of 2 more threads\n",
      "2022-03-01 09:07:16,705 : INFO : worker thread finished; awaiting finish of 1 more threads\n",
      "2022-03-01 09:07:16,722 : INFO : worker thread finished; awaiting finish of 0 more threads\n",
      "2022-03-01 09:07:16,723 : INFO : EPOCH - 100 : training on 119127 raw words (59167 effective words) took 0.2s, 259978 effective words/s\n",
      "2022-03-01 09:07:16,723 : INFO : FastText lifecycle event {'msg': 'training on 11912700 raw words (5908502 effective words) took 23.7s, 249167 effective words/s', 'datetime': '2022-03-01T09:07:16.723552', 'gensim': '4.0.1', 'python': '3.8.5 (tags/v3.8.5:580fbb0, Jul 20 2020, 15:57:54) [MSC v.1924 64 bit (AMD64)]', 'platform': 'Windows-10-10.0.19041-SP0', 'event': 'train'}\n"
     ]
    },
    {
     "data": {
      "text/plain": [
       "(5908502, 11912700)"
      ]
     },
     "execution_count": 25,
     "metadata": {},
     "output_type": "execute_result"
    }
   ],
   "source": [
    "# train the model\n",
    "model.train(epochs=100, corpus_file=corpus_file, total_examples=model.corpus_count, \n",
    "            total_words=model.corpus_total_words, min_count=2)\n"
   ]
  },
  {
   "cell_type": "code",
   "execution_count": 26,
   "metadata": {},
   "outputs": [
    {
     "name": "stderr",
     "output_type": "stream",
     "text": [
      "2022-03-01 09:07:16,810 : INFO : FastText lifecycle event {'fname_or_handle': 'C:\\\\Users\\\\marwa\\\\AppData\\\\Local\\\\Temp\\\\saved_model_gensim-ozhsg5ow', 'separately': '[]', 'sep_limit': 10485760, 'ignore': frozenset(), 'datetime': '2022-03-01T09:07:16.810529', 'gensim': '4.0.1', 'python': '3.8.5 (tags/v3.8.5:580fbb0, Jul 20 2020, 15:57:54) [MSC v.1924 64 bit (AMD64)]', 'platform': 'Windows-10-10.0.19041-SP0', 'event': 'saving'}\n",
      "2022-03-01 09:07:16,810 : INFO : storing np array 'vectors_ngrams' to C:\\Users\\marwa\\AppData\\Local\\Temp\\saved_model_gensim-ozhsg5ow.wv.vectors_ngrams.npy\n",
      "2022-03-01 09:07:18,153 : INFO : not storing attribute vectors\n",
      "2022-03-01 09:07:18,154 : INFO : not storing attribute buckets_word\n",
      "2022-03-01 09:07:18,154 : INFO : not storing attribute cum_table\n",
      "2022-03-01 09:07:18,158 : INFO : saved C:\\Users\\marwa\\AppData\\Local\\Temp\\saved_model_gensim-ozhsg5ow\n",
      "2022-03-01 09:07:18,159 : INFO : loading FastText object from C:\\Users\\marwa\\AppData\\Local\\Temp\\saved_model_gensim-ozhsg5ow\n",
      "2022-03-01 09:07:18,162 : INFO : loading wv recursively from C:\\Users\\marwa\\AppData\\Local\\Temp\\saved_model_gensim-ozhsg5ow.wv.* with mmap=None\n",
      "2022-03-01 09:07:18,162 : INFO : loading vectors_ngrams from C:\\Users\\marwa\\AppData\\Local\\Temp\\saved_model_gensim-ozhsg5ow.wv.vectors_ngrams.npy with mmap=None\n",
      "2022-03-01 09:07:18,816 : INFO : setting ignored attribute vectors to None\n",
      "2022-03-01 09:07:18,817 : INFO : setting ignored attribute buckets_word to None\n",
      "2022-03-01 09:07:18,913 : INFO : setting ignored attribute cum_table to None\n",
      "2022-03-01 09:07:18,928 : INFO : FastText lifecycle event {'fname': 'C:\\\\Users\\\\marwa\\\\AppData\\\\Local\\\\Temp\\\\saved_model_gensim-ozhsg5ow', 'datetime': '2022-03-01T09:07:18.928452', 'gensim': '4.0.1', 'python': '3.8.5 (tags/v3.8.5:580fbb0, Jul 20 2020, 15:57:54) [MSC v.1924 64 bit (AMD64)]', 'platform': 'Windows-10-10.0.19041-SP0', 'event': 'loaded'}\n"
     ]
    },
    {
     "name": "stdout",
     "output_type": "stream",
     "text": [
      "<gensim.models.fasttext.FastText object at 0x00000196AEC95D60>\n"
     ]
    }
   ],
   "source": [
    "# Save a model trained via Gensim's fastText implementation to temp.\n",
    "import tempfile\n",
    "import os\n",
    "with tempfile.NamedTemporaryFile(prefix='saved_model_gensim-', delete=False) as tmp:\n",
    "    model.save(tmp.name, separately=[])\n",
    "\n",
    "# Load back the same model.\n",
    "loaded_model = FastText.load(tmp.name)\n",
    "print(loaded_model)\n",
    "\n",
    "os.unlink(tmp.name)  # demonstration complete, don't need the temp file anymore"
   ]
  },
  {
   "cell_type": "code",
   "execution_count": 27,
   "metadata": {},
   "outputs": [
    {
     "name": "stdout",
     "output_type": "stream",
     "text": [
      "<gensim.models.fasttext.FastTextKeyedVectors object at 0x0000019724E541C0>\n",
      "True\n"
     ]
    }
   ],
   "source": [
    "wv = model.wv\n",
    "print(wv)\n",
    "\n",
    "#\n",
    "# FastText models support vector lookups for out-of-vocabulary words by summing up character ngrams belonging to the word.\n",
    "#\n",
    "print('ناس' in wv.key_to_index)"
   ]
  },
  {
   "cell_type": "code",
   "execution_count": 28,
   "metadata": {},
   "outputs": [
    {
     "data": {
      "text/plain": [
       "[('بعث', 0.7346827983856201),\n",
       " ('أب', 0.6606550216674805),\n",
       " ('يبعث', 0.6417933106422424),\n",
       " ('بعثنا', 0.5997458696365356),\n",
       " ('أربعة', 0.5973423719406128),\n",
       " ('أبا', 0.5540487766265869),\n",
       " ('أبدأ', 0.5502267479896545),\n",
       " ('يبعثون', 0.5421444177627563),\n",
       " ('أبو', 0.5321201682090759),\n",
       " ('بث', 0.5179750323295593)]"
      ]
     },
     "execution_count": 28,
     "metadata": {},
     "output_type": "execute_result"
    }
   ],
   "source": [
    "model.wv.most_similar('أبعث')"
   ]
  },
  {
   "cell_type": "code",
   "execution_count": 29,
   "metadata": {},
   "outputs": [
    {
     "data": {
      "text/plain": [
       "[('كتاب', 0.8642615675926208),\n",
       " ('كتب', 0.5982104539871216),\n",
       " ('ترابا', 0.5972825884819031),\n",
       " ('ربا', 0.5273069143295288),\n",
       " ('توراة', 0.49827662110328674),\n",
       " ('بيوتا', 0.45898622274398804),\n",
       " ('يكتبون', 0.4423780143260956),\n",
       " ('نبات', 0.44182711839675903),\n",
       " ('قتال', 0.4412945508956909),\n",
       " ('باب', 0.4395100176334381)]"
      ]
     },
     "execution_count": 29,
     "metadata": {},
     "output_type": "execute_result"
    }
   ],
   "source": [
    "model.wv.most_similar('كتابا')"
   ]
  },
  {
   "cell_type": "code",
   "execution_count": 30,
   "metadata": {},
   "outputs": [
    {
     "data": {
      "text/plain": [
       "[('حمد', 0.8329688906669617),\n",
       " ('مرد', 0.6378753185272217),\n",
       " ('حميد', 0.634499728679657),\n",
       " ('مغرب', 0.6068316102027893),\n",
       " ('مدكر', 0.5931455492973328),\n",
       " ('حم', 0.5842917561531067),\n",
       " ('موعد', 0.5674654841423035),\n",
       " ('حمل', 0.5581502914428711),\n",
       " ('مهاد', 0.554479718208313),\n",
       " ('وحد', 0.5466545820236206)]"
      ]
     },
     "execution_count": 30,
     "metadata": {},
     "output_type": "execute_result"
    }
   ],
   "source": [
    "model.wv.most_similar('محمد')"
   ]
  },
  {
   "cell_type": "code",
   "execution_count": 31,
   "metadata": {},
   "outputs": [
    {
     "data": {
      "text/plain": [
       "[('رسولا', 0.7592609524726868),\n",
       " ('رسل', 0.5400170683860779),\n",
       " ('حول', 0.5381847620010376),\n",
       " ('مرسلون', 0.4810429513454437),\n",
       " ('تول', 0.47872936725616455),\n",
       " ('رسلا', 0.4686441123485565),\n",
       " ('يحلفون', 0.4557785987854004),\n",
       " ('مرسلين', 0.4551139175891876),\n",
       " ('يتول', 0.4395942687988281),\n",
       " ('اختلفوا', 0.43093472719192505)]"
      ]
     },
     "execution_count": 31,
     "metadata": {},
     "output_type": "execute_result"
    }
   ],
   "source": [
    "model.wv.most_similar('رسول')"
   ]
  },
  {
   "cell_type": "code",
   "execution_count": 32,
   "metadata": {},
   "outputs": [
    {
     "data": {
      "text/plain": [
       "[('نوحا', 0.5001643896102905),\n",
       " ('مولى', 0.4770733118057251),\n",
       " ('نوح', 0.4739552140235901),\n",
       " ('عيسى', 0.44960781931877136),\n",
       " ('مسمى', 0.44658103585243225),\n",
       " ('موتى', 0.44605913758277893),\n",
       " ('ملئ', 0.41490888595581055),\n",
       " ('مست', 0.4104287624359131),\n",
       " ('موج', 0.4085158407688141),\n",
       " ('نوحي', 0.40818244218826294)]"
      ]
     },
     "execution_count": 32,
     "metadata": {},
     "output_type": "execute_result"
    }
   ],
   "source": [
    "model.wv.most_similar('موسى')"
   ]
  },
  {
   "cell_type": "code",
   "execution_count": 33,
   "metadata": {},
   "outputs": [
    {
     "data": {
      "text/plain": [
       "[('سلم', 0.7501881718635559),\n",
       " ('أسلم', 0.7102834582328796),\n",
       " ('مسلمون', 0.6498619318008423),\n",
       " ('مسلمين', 0.6343697905540466),\n",
       " ('م', 0.5901534557342529),\n",
       " ('لم', 0.5144378542900085),\n",
       " ('مرسلين', 0.5049872994422913),\n",
       " ('مسمى', 0.49610280990600586),\n",
       " ('مس', 0.4845450520515442),\n",
       " ('مست', 0.4841727316379547)]"
      ]
     },
     "execution_count": 33,
     "metadata": {},
     "output_type": "execute_result"
    }
   ],
   "source": [
    "model.wv.most_similar('مسلم')"
   ]
  },
  {
   "cell_type": "code",
   "execution_count": 34,
   "metadata": {},
   "outputs": [
    {
     "data": {
      "text/plain": [
       "[('قاتلوا', 0.8338311314582825),\n",
       " ('قاتل', 0.8314869403839111),\n",
       " ('يقاتلون', 0.8036999702453613),\n",
       " ('يقاتلوا', 0.7826008796691895),\n",
       " ('قتلوا', 0.700934648513794),\n",
       " ('تتلو', 0.6914482116699219),\n",
       " ('تقتلوا', 0.6782912611961365),\n",
       " ('يتلو', 0.6666418313980103),\n",
       " ('يتلون', 0.6400944590568542),\n",
       " ('نتلو', 0.5891954302787781)]"
      ]
     },
     "execution_count": 34,
     "metadata": {},
     "output_type": "execute_result"
    }
   ],
   "source": [
    "model.wv.most_similar('قاتلو')"
   ]
  },
  {
   "cell_type": "code",
   "execution_count": 35,
   "metadata": {},
   "outputs": [
    {
     "data": {
      "text/plain": [
       "[('طغيان', 0.49667322635650635),\n",
       " ('شياطين', 0.47173285484313965),\n",
       " ('وليا', 0.44093161821365356),\n",
       " ('ولدان', 0.4352113902568817),\n",
       " ('سلطان', 0.4124997556209564),\n",
       " ('عدوان', 0.40808364748954773),\n",
       " ('شفيع', 0.40368080139160156),\n",
       " ('شيئا', 0.39895302057266235),\n",
       " ('خاسرين', 0.36927491426467896),\n",
       " ('يطع', 0.36863675713539124)]"
      ]
     },
     "execution_count": 35,
     "metadata": {},
     "output_type": "execute_result"
    }
   ],
   "source": [
    "model.wv.most_similar('شيطان')"
   ]
  },
  {
   "cell_type": "code",
   "execution_count": 36,
   "metadata": {},
   "outputs": [
    {
     "data": {
      "text/plain": [
       "\"\\nimport io\\ndef load_vectors(fname):\\n    fin = io.open(fname, 'r', encoding='utf-8', newline='\\n', errors='ignore')\\n    n, d = map(int, fin.readline().split())\\n    data = {}\\n    for line in fin:\\n        tokens = line.rstrip().split(' ')\\n        data[tokens[0]] = map(float, tokens[1:])\\n    return data\\n\""
      ]
     },
     "execution_count": 36,
     "metadata": {},
     "output_type": "execute_result"
    }
   ],
   "source": [
    "'''\n",
    "import io\n",
    "def load_vectors(fname):\n",
    "    fin = io.open(fname, 'r', encoding='utf-8', newline='\\n', errors='ignore')\n",
    "    n, d = map(int, fin.readline().split())\n",
    "    data = {}\n",
    "    for line in fin:\n",
    "        tokens = line.rstrip().split(' ')\n",
    "        data[tokens[0]] = map(float, tokens[1:])\n",
    "    return data\n",
    "'''    "
   ]
  },
  {
   "cell_type": "markdown",
   "metadata": {},
   "source": [
    "### Trying the FastText pretrained"
   ]
  },
  {
   "cell_type": "code",
   "execution_count": 37,
   "metadata": {},
   "outputs": [],
   "source": [
    "#pip install fasttext"
   ]
  },
  {
   "cell_type": "code",
   "execution_count": 124,
   "metadata": {},
   "outputs": [],
   "source": [
    "from gensim.models import FastText"
   ]
  },
  {
   "cell_type": "code",
   "execution_count": 39,
   "metadata": {},
   "outputs": [],
   "source": [
    "#model = fasttext.load_model('Embedding_corpus\\cc.ar.300.bin\\cc.ar.300.bin')"
   ]
  },
  {
   "cell_type": "code",
   "execution_count": 40,
   "metadata": {},
   "outputs": [],
   "source": [
    "#model.get_word_vector('ناس')"
   ]
  },
  {
   "cell_type": "code",
   "execution_count": 125,
   "metadata": {},
   "outputs": [
    {
     "name": "stderr",
     "output_type": "stream",
     "text": [
      "<ipython-input-125-84503ec2c260>:1: DeprecationWarning: Call to deprecated `load_fasttext_format` (use load_facebook_vectors (to use pretrained embeddings) or load_facebook_model (to continue training with the loaded full model, more RAM) instead).\n",
      "  loaded_model = FastText.load_fasttext_format('Embedding_corpus\\cc.ar.300.bin\\cc.ar.300.bin')\n"
     ]
    }
   ],
   "source": [
    "loaded_model = FastText.load_fasttext_format('Embedding_corpus\\cc.ar.300.bin\\cc.ar.300.bin')\n"
   ]
  },
  {
   "cell_type": "code",
   "execution_count": 126,
   "metadata": {},
   "outputs": [
    {
     "data": {
      "text/plain": [
       "[('وأبعث', 0.7212119102478027),\n",
       " ('لأبعث', 0.7128884196281433),\n",
       " ('سأبعث', 0.6987015008926392),\n",
       " ('أبعثُ', 0.6972504258155823),\n",
       " ('أبعثه', 0.6845664978027344),\n",
       " ('فأبعث', 0.677790105342865),\n",
       " ('أبعثها', 0.6391879916191101),\n",
       " ('وسأبعث', 0.6377503871917725),\n",
       " ('ابعث', 0.614668071269989),\n",
       " ('بعثت', 0.5950194597244263)]"
      ]
     },
     "execution_count": 126,
     "metadata": {},
     "output_type": "execute_result"
    }
   ],
   "source": [
    "loaded_model.wv.most_similar('أبعث')"
   ]
  },
  {
   "cell_type": "code",
   "execution_count": 43,
   "metadata": {},
   "outputs": [
    {
     "data": {
      "text/plain": [
       "[('نبيّ', 0.7102681398391724),\n",
       " ('ونبي', 0.705785870552063),\n",
       " ('نبى', 0.6732310652732849),\n",
       " ('لنبي', 0.5902945399284363),\n",
       " ('نبيٌّ', 0.5822771191596985),\n",
       " ('نبيٍّ', 0.5761828422546387),\n",
       " ('بنبي', 0.5638315677642822),\n",
       " ('ونبيّ', 0.5582379698753357),\n",
       " ('منهمعيسى', 0.5517821907997131),\n",
       " ('نبيَّ', 0.5489377975463867)]"
      ]
     },
     "execution_count": 43,
     "metadata": {},
     "output_type": "execute_result"
    }
   ],
   "source": [
    "loaded_model.wv.most_similar('نبي')"
   ]
  },
  {
   "cell_type": "code",
   "execution_count": 44,
   "metadata": {},
   "outputs": [
    {
     "data": {
      "text/plain": [
       "[('صلى', 0.8690614104270935),\n",
       " ('النبي', 0.8029296398162842),\n",
       " ('رسولالله', 0.7905835509300232),\n",
       " ('وسلم', 0.7554729580879211),\n",
       " ('الرسول', 0.7466769218444824),\n",
       " ('صلىالله', 0.7460879683494568),\n",
       " ('اللهصلى', 0.7404047250747681),\n",
       " ('اللهعليه', 0.7003968954086304),\n",
       " ('وسلمعن', 0.6883264183998108),\n",
       " ('عليهوسلم', 0.6836719512939453)]"
      ]
     },
     "execution_count": 44,
     "metadata": {},
     "output_type": "execute_result"
    }
   ],
   "source": [
    "loaded_model.wv.most_similar('رسول')"
   ]
  },
  {
   "cell_type": "code",
   "execution_count": 45,
   "metadata": {},
   "outputs": [
    {
     "data": {
      "text/plain": [
       "[('وجاهد', 0.6441736817359924),\n",
       " ('يجاهد', 0.5606997609138489),\n",
       " ('ليجاهد', 0.528854250907898),\n",
       " ('جاهدا', 0.520108699798584),\n",
       " ('جاهدت', 0.514257550239563),\n",
       " ('يُجاهد', 0.5134787559509277),\n",
       " ('جاهداُ', 0.5117212533950806),\n",
       " ('وتجاهد', 0.5096541047096252),\n",
       " ('جاهدها', 0.5061948299407959),\n",
       " ('جاهدهم', 0.5025814771652222)]"
      ]
     },
     "execution_count": 45,
     "metadata": {},
     "output_type": "execute_result"
    }
   ],
   "source": [
    "loaded_model.wv.most_similar('جاهد')"
   ]
  },
  {
   "cell_type": "code",
   "execution_count": 46,
   "metadata": {},
   "outputs": [
    {
     "data": {
      "text/plain": [
       "[('أحله', 0.6836490631103516),\n",
       " ('أحلّ', 0.6578207612037659),\n",
       " ('أحلها', 0.6499465703964233),\n",
       " ('أحلَّ', 0.6228722333908081),\n",
       " ('وأحل', 0.6043863892555237),\n",
       " ('يحل', 0.5990872383117676),\n",
       " ('وأحلّ', 0.5895916819572449),\n",
       " ('احل', 0.5895788669586182),\n",
       " ('وأحلَّ', 0.5727652907371521),\n",
       " ('أباح', 0.5509823560714722)]"
      ]
     },
     "execution_count": 46,
     "metadata": {},
     "output_type": "execute_result"
    }
   ],
   "source": [
    "loaded_model.wv.most_similar('أحل')"
   ]
  },
  {
   "cell_type": "code",
   "execution_count": 47,
   "metadata": {},
   "outputs": [
    {
     "data": {
      "text/plain": [
       "[('أحمد', 0.8209826350212097),\n",
       " ('عبد', 0.779482901096344),\n",
       " ('عبدالله', 0.776203453540802),\n",
       " ('محمود', 0.7732716798782349),\n",
       " ('احمد', 0.7695645689964294),\n",
       " ('إبراهيم', 0.7588852047920227),\n",
       " ('ابراهيم', 0.7383909225463867),\n",
       " ('مصطفى', 0.7349455952644348),\n",
       " ('عبدالرحمن', 0.7252058982849121),\n",
       " ('حسين', 0.7250936031341553)]"
      ]
     },
     "execution_count": 47,
     "metadata": {},
     "output_type": "execute_result"
    }
   ],
   "source": [
    "loaded_model.wv.most_similar('محمد')"
   ]
  },
  {
   "cell_type": "code",
   "execution_count": 48,
   "metadata": {},
   "outputs": [
    {
     "data": {
      "text/plain": [
       "[('بالفرقان', 0.6295627951622009),\n",
       " ('الفرقان15', 0.6078313589096069),\n",
       " ('والفرقان', 0.5947379469871521),\n",
       " ('الفرقان26', 0.5540167093276978),\n",
       " ('الأنفال', 0.5404952168464661),\n",
       " ('الفرقان48', 0.5389019846916199),\n",
       " ('الإسراء', 0.528775691986084),\n",
       " ('الفرقان\\u200f', 0.5283187031745911),\n",
       " ('الفرقان5', 0.506644070148468),\n",
       " ('الفرقانسورة', 0.4972631335258484)]"
      ]
     },
     "execution_count": 48,
     "metadata": {},
     "output_type": "execute_result"
    }
   ],
   "source": [
    "loaded_model.wv.most_similar('الفرقان')"
   ]
  },
  {
   "cell_type": "code",
   "execution_count": 49,
   "metadata": {},
   "outputs": [
    {
     "data": {
      "text/plain": [
       "[('وتبارك', 0.6727829575538635),\n",
       " ('اللهتبارك', 0.668403148651123),\n",
       " ('سبحانه', 0.6649442911148071),\n",
       " ('تباركـ', 0.6534457802772522),\n",
       " ('_تبارك', 0.6513592004776001),\n",
       " ('الله', 0.643608808517456),\n",
       " ('وتعالى', 0.6431511640548706),\n",
       " ('تعالى', 0.6223649382591248),\n",
       " ('تباركَ', 0.6002430319786072),\n",
       " ('تباركك', 0.5966691374778748)]"
      ]
     },
     "execution_count": 49,
     "metadata": {},
     "output_type": "execute_result"
    }
   ],
   "source": [
    "loaded_model.wv.most_similar('تبارك')"
   ]
  },
  {
   "cell_type": "code",
   "execution_count": 50,
   "metadata": {},
   "outputs": [
    {
     "data": {
      "text/plain": [
       "[('محمد', 0.7794829607009888),\n",
       " ('العزيز', 0.7717512249946594),\n",
       " ('الرحمن', 0.7606557011604309),\n",
       " ('لعبد', 0.7416163682937622),\n",
       " ('عبدالله', 0.7382671236991882),\n",
       " ('وعبد', 0.7319353818893433),\n",
       " ('أحمد', 0.7275064587593079),\n",
       " ('سميرعبد', 0.7085150480270386),\n",
       " ('الوهابعبد', 0.7059828639030457),\n",
       " ('القادرعبد', 0.7058567404747009)]"
      ]
     },
     "execution_count": 50,
     "metadata": {},
     "output_type": "execute_result"
    }
   ],
   "source": [
    "loaded_model.wv.most_similar('عبد')"
   ]
  },
  {
   "cell_type": "code",
   "execution_count": 51,
   "metadata": {},
   "outputs": [
    {
     "data": {
      "text/plain": [
       "[('نذيراً', 0.7619868516921997),\n",
       " ('ونذيرا', 0.7151855826377869),\n",
       " ('نذيرًا', 0.617979109287262),\n",
       " ('ونذيراً', 0.5832825899124146),\n",
       " ('مبشرا', 0.5540928244590759),\n",
       " ('بشيرا', 0.5335679054260254),\n",
       " ('نذيرٌ', 0.5189718008041382),\n",
       " ('وبشيرا', 0.5126438736915588),\n",
       " ('تبشيرا', 0.5123264789581299),\n",
       " ('ومبشرا', 0.5102454423904419)]"
      ]
     },
     "execution_count": 51,
     "metadata": {},
     "output_type": "execute_result"
    }
   ],
   "source": [
    "loaded_model.wv.most_similar('نذيرا')"
   ]
  },
  {
   "cell_type": "code",
   "execution_count": 52,
   "metadata": {},
   "outputs": [
    {
     "data": {
      "text/plain": [
       "[('اسقينا', 0.7665320634841919),\n",
       " ('فسقينا', 0.7361007332801819),\n",
       " ('يسقينا', 0.7154242992401123),\n",
       " ('تسقينا', 0.7118365168571472),\n",
       " ('واسقينا', 0.6842284798622131),\n",
       " ('وتسقينا', 0.6771300435066223),\n",
       " ('أسقيني', 0.6613034009933472),\n",
       " ('وأسقيناكم', 0.6544066071510315),\n",
       " ('ويسقينا', 0.6520720720291138),\n",
       " ('سقينا', 0.6374655961990356)]"
      ]
     },
     "execution_count": 52,
     "metadata": {},
     "output_type": "execute_result"
    }
   ],
   "source": [
    "loaded_model.wv.most_similar('أسقينا')"
   ]
  },
  {
   "cell_type": "code",
   "execution_count": 53,
   "metadata": {},
   "outputs": [
    {
     "data": {
      "text/plain": [
       "[('بشورى', 0.670009195804596),\n",
       " ('لشورى', 0.6098456382751465),\n",
       " ('الشورى', 0.5832278728485107),\n",
       " ('شوري', 0.547425389289856),\n",
       " ('مجلس', 0.5389403104782104),\n",
       " ('الشوري', 0.515866756439209),\n",
       " ('وشورى', 0.512150764465332),\n",
       " ('للشورى', 0.5052787661552429),\n",
       " ('نواب', 0.4985246956348419),\n",
       " ('المجلس', 0.49078434705734253)]"
      ]
     },
     "execution_count": 53,
     "metadata": {},
     "output_type": "execute_result"
    }
   ],
   "source": [
    "loaded_model.wv.most_similar('شورى')"
   ]
  },
  {
   "cell_type": "code",
   "execution_count": 54,
   "metadata": {},
   "outputs": [
    {
     "data": {
      "text/plain": [
       "[('زخرفاً', 0.7141721844673157),\n",
       " ('زخرفات', 0.6643578410148621),\n",
       " ('زخرفيا', 0.6578948497772217),\n",
       " ('وزخرفا', 0.5991872549057007),\n",
       " ('زخرفياً', 0.5783692002296448),\n",
       " ('مزخرفا', 0.5734640955924988),\n",
       " ('زخرفيه', 0.5627555251121521),\n",
       " ('بزخرفات', 0.5481740832328796),\n",
       " ('زخرفيًا', 0.5429850816726685),\n",
       " ('زخرفى', 0.538581907749176)]"
      ]
     },
     "execution_count": 54,
     "metadata": {},
     "output_type": "execute_result"
    }
   ],
   "source": [
    "loaded_model.wv.most_similar('زخرفا')"
   ]
  },
  {
   "cell_type": "code",
   "execution_count": 55,
   "metadata": {},
   "outputs": [
    {
     "data": {
      "text/plain": [
       "[('موسي', 0.7969751358032227),\n",
       " ('لموسى', 0.7101447582244873),\n",
       " ('موسىعليه', 0.7063007354736328),\n",
       " ('عيسى', 0.6877898573875427),\n",
       " ('هارون', 0.6822479367256165),\n",
       " ('إبراهيم', 0.670921266078949),\n",
       " ('وموسى', 0.6678228974342346),\n",
       " ('سليمان', 0.6505917906761169),\n",
       " ('كليمه', 0.6453965902328491),\n",
       " ('موسىٰ', 0.6353452801704407)]"
      ]
     },
     "execution_count": 55,
     "metadata": {},
     "output_type": "execute_result"
    }
   ],
   "source": [
    "loaded_model.wv.most_similar('موسى')"
   ]
  },
  {
   "cell_type": "code",
   "execution_count": 56,
   "metadata": {},
   "outputs": [
    {
     "data": {
      "text/plain": [
       "[('نبيّ', 0.7102681398391724),\n",
       " ('ونبي', 0.705785870552063),\n",
       " ('نبى', 0.6732310652732849),\n",
       " ('لنبي', 0.5902945399284363),\n",
       " ('نبيٌّ', 0.5822771191596985),\n",
       " ('نبيٍّ', 0.5761828422546387),\n",
       " ('بنبي', 0.5638315677642822),\n",
       " ('ونبيّ', 0.5582379698753357),\n",
       " ('منهمعيسى', 0.5517821907997131),\n",
       " ('نبيَّ', 0.5489377975463867)]"
      ]
     },
     "execution_count": 56,
     "metadata": {},
     "output_type": "execute_result"
    }
   ],
   "source": [
    "loaded_model.wv.most_similar('نبي')"
   ]
  },
  {
   "cell_type": "code",
   "execution_count": 57,
   "metadata": {},
   "outputs": [
    {
     "data": {
      "text/plain": [
       "[('ومغضوب', 0.7246828675270081),\n",
       " ('مغضوبا', 0.7187148928642273),\n",
       " ('مغضوباً', 0.6523987650871277),\n",
       " ('المغضوب', 0.6247119903564453),\n",
       " ('والمغضوب', 0.5881289839744568),\n",
       " ('للمغضوب', 0.5606250166893005),\n",
       " ('ساخط', 0.5220524668693542),\n",
       " ('مضحوك', 0.5144667625427246),\n",
       " ('حاقدين', 0.49812430143356323),\n",
       " ('المغضوبين', 0.4930301606655121)]"
      ]
     },
     "execution_count": 57,
     "metadata": {},
     "output_type": "execute_result"
    }
   ],
   "source": [
    "loaded_model.wv.most_similar('مغضوب')"
   ]
  },
  {
   "cell_type": "code",
   "execution_count": 58,
   "metadata": {},
   "outputs": [
    {
     "data": {
      "text/plain": [
       "[('وأمين', 0.7921571135520935),\n",
       " ('امين', 0.7701273560523987),\n",
       " ('لأمين', 0.6830703020095825),\n",
       " ('أمينـ', 0.6514025926589966),\n",
       " ('فأمين', 0.650496780872345),\n",
       " ('أميند', 0.6480316519737244),\n",
       " ('د.أمين', 0.6236621141433716),\n",
       " ('سكرتير', 0.621588408946991),\n",
       " ('الأمين', 0.6196951866149902),\n",
       " ('وامين', 0.6089159846305847)]"
      ]
     },
     "execution_count": 58,
     "metadata": {},
     "output_type": "execute_result"
    }
   ],
   "source": [
    "loaded_model.wv.most_similar('أمين')"
   ]
  },
  {
   "cell_type": "code",
   "execution_count": 59,
   "metadata": {},
   "outputs": [
    {
     "data": {
      "text/plain": [
       "[('إبراهيم', 0.6900122165679932),\n",
       " ('محمد', 0.6878846287727356),\n",
       " ('ابراهيم', 0.6821178197860718),\n",
       " ('وسليمان', 0.6813848614692688),\n",
       " ('عبدالله', 0.6745157837867737),\n",
       " ('أحمد', 0.6644746661186218),\n",
       " ('يوسف', 0.663766086101532),\n",
       " ('موسى', 0.6505917310714722),\n",
       " ('لسليمان', 0.645353376865387),\n",
       " ('عبد', 0.6449882984161377)]"
      ]
     },
     "execution_count": 59,
     "metadata": {},
     "output_type": "execute_result"
    }
   ],
   "source": [
    "loaded_model.wv.most_similar('سليمان')"
   ]
  },
  {
   "cell_type": "code",
   "execution_count": 60,
   "metadata": {},
   "outputs": [
    {
     "data": {
      "text/plain": [
       "[('وأنبياء', 0.7774913311004639),\n",
       " ('كأنبياء', 0.7583178281784058),\n",
       " ('انبياء', 0.7312151789665222),\n",
       " ('أنبياءهم', 0.7106151580810547),\n",
       " ('لأنبياء', 0.7029873728752136),\n",
       " ('أنبياءَ', 0.6976326704025269),\n",
       " ('اﻷنبياء', 0.695108950138092),\n",
       " ('أنبياءِ', 0.6929334402084351),\n",
       " ('ألأنبياء', 0.6819453835487366),\n",
       " ('أنبياءه', 0.6662687659263611)]"
      ]
     },
     "execution_count": 60,
     "metadata": {},
     "output_type": "execute_result"
    }
   ],
   "source": [
    "loaded_model.wv.most_similar('أنبياء')"
   ]
  },
  {
   "cell_type": "code",
   "execution_count": 61,
   "metadata": {},
   "outputs": [
    {
     "data": {
      "text/plain": [
       "[('سقفاً', 0.7516207098960876),\n",
       " ('وسقفا', 0.7199218273162842),\n",
       " ('مسقفا', 0.6177269220352173),\n",
       " ('كسقف', 0.5936840176582336),\n",
       " ('سياجا', 0.5742695331573486),\n",
       " ('سقوفا', 0.5720374584197998),\n",
       " ('سقفًا', 0.5487751960754395),\n",
       " ('سقف', 0.5378606915473938),\n",
       " ('حائطا', 0.5265266299247742),\n",
       " ('وخفضا', 0.5088112354278564)]"
      ]
     },
     "execution_count": 61,
     "metadata": {},
     "output_type": "execute_result"
    }
   ],
   "source": [
    "loaded_model.wv.most_similar('سقفا')"
   ]
  },
  {
   "cell_type": "code",
   "execution_count": 62,
   "metadata": {},
   "outputs": [
    {
     "data": {
      "text/plain": [
       "[('رواسى', 0.6526650786399841),\n",
       " ('رواسيها', 0.6323087215423584),\n",
       " ('ورواسي', 0.6179363131523132),\n",
       " ('الرواسي', 0.5782941579818726),\n",
       " ('والرواسي', 0.5424691438674927),\n",
       " ('رواسخ', 0.5134739875793457),\n",
       " ('كالرواسي', 0.5029222369194031),\n",
       " ('رواسو', 0.4579753875732422),\n",
       " ('شامخات', 0.45408889651298523),\n",
       " ('تميد', 0.44586512446403503)]"
      ]
     },
     "execution_count": 62,
     "metadata": {},
     "output_type": "execute_result"
    }
   ],
   "source": [
    "loaded_model.wv.most_similar('رواسي')"
   ]
  },
  {
   "cell_type": "code",
   "execution_count": 63,
   "metadata": {},
   "outputs": [
    {
     "data": {
      "text/plain": [
       "[('ومعرضون', 0.7547444105148315),\n",
       " ('المعرضون', 0.735893964767456),\n",
       " ('مُعرضون', 0.687823474407196),\n",
       " ('والمعرضون', 0.6744703650474548),\n",
       " ('معرّضون', 0.637617290019989),\n",
       " ('معرضين', 0.6164714694023132),\n",
       " ('غافلون', 0.5492218732833862),\n",
       " ('مُعرضين', 0.5491342544555664),\n",
       " ('يتعرضون', 0.5490857362747192),\n",
       " ('المعرضين', 0.5396386384963989)]"
      ]
     },
     "execution_count": 63,
     "metadata": {},
     "output_type": "execute_result"
    }
   ],
   "source": [
    "loaded_model.wv.most_similar('معرضون')"
   ]
  },
  {
   "cell_type": "code",
   "execution_count": 64,
   "metadata": {},
   "outputs": [],
   "source": [
    "from sklearn.metrics.pairwise import cosine_similarity"
   ]
  },
  {
   "cell_type": "code",
   "execution_count": 65,
   "metadata": {},
   "outputs": [],
   "source": [
    "messenger = loaded_model.wv['رسول']\n",
    "prophet = loaded_model.wv['نبي']"
   ]
  },
  {
   "cell_type": "code",
   "execution_count": 66,
   "metadata": {},
   "outputs": [
    {
     "data": {
      "text/plain": [
       "array([[0.502186]], dtype=float32)"
      ]
     },
     "execution_count": 66,
     "metadata": {},
     "output_type": "execute_result"
    }
   ],
   "source": [
    "cosine_similarity([messenger], [prophet])"
   ]
  },
  {
   "cell_type": "code",
   "execution_count": 67,
   "metadata": {},
   "outputs": [
    {
     "data": {
      "text/plain": [
       "array([[0.42734826]], dtype=float32)"
      ]
     },
     "execution_count": 67,
     "metadata": {},
     "output_type": "execute_result"
    }
   ],
   "source": [
    "cosine_similarity([loaded_model.wv['يبيح']], [loaded_model.wv['يحل']])"
   ]
  },
  {
   "cell_type": "code",
   "execution_count": 68,
   "metadata": {},
   "outputs": [
    {
     "data": {
      "text/plain": [
       "array([[0.32556877]], dtype=float32)"
      ]
     },
     "execution_count": 68,
     "metadata": {},
     "output_type": "execute_result"
    }
   ],
   "source": [
    "cosine_similarity([loaded_model.wv['جاهد']], [loaded_model.wv['قاتل']])"
   ]
  },
  {
   "cell_type": "code",
   "execution_count": 69,
   "metadata": {},
   "outputs": [
    {
     "data": {
      "text/plain": [
       "array([[0.38204032]], dtype=float32)"
      ]
     },
     "execution_count": 69,
     "metadata": {},
     "output_type": "execute_result"
    }
   ],
   "source": [
    "cosine_similarity([loaded_model.wv['دافع']], [loaded_model.wv['قاتل']])"
   ]
  },
  {
   "cell_type": "code",
   "execution_count": 70,
   "metadata": {},
   "outputs": [
    {
     "data": {
      "text/plain": [
       "array([[0.23026814]], dtype=float32)"
      ]
     },
     "execution_count": 70,
     "metadata": {},
     "output_type": "execute_result"
    }
   ],
   "source": [
    "cosine_similarity([loaded_model.wv['قلت']], [loaded_model.wv['قاتل']])"
   ]
  },
  {
   "cell_type": "code",
   "execution_count": 71,
   "metadata": {},
   "outputs": [
    {
     "data": {
      "text/plain": [
       "array([[0.65755785]], dtype=float32)"
      ]
     },
     "execution_count": 71,
     "metadata": {},
     "output_type": "execute_result"
    }
   ],
   "source": [
    "cosine_similarity([loaded_model.wv['موضح']], [loaded_model.wv['مبين']])"
   ]
  },
  {
   "cell_type": "code",
   "execution_count": 72,
   "metadata": {},
   "outputs": [
    {
     "data": {
      "text/plain": [
       "array([[0.3848945]], dtype=float32)"
      ]
     },
     "execution_count": 72,
     "metadata": {},
     "output_type": "execute_result"
    }
   ],
   "source": [
    "cosine_similarity([loaded_model.wv['انجيل']], [loaded_model.wv['توراه']])"
   ]
  },
  {
   "cell_type": "code",
   "execution_count": 73,
   "metadata": {},
   "outputs": [
    {
     "data": {
      "text/plain": [
       "array([[0.87553376]], dtype=float32)"
      ]
     },
     "execution_count": 73,
     "metadata": {},
     "output_type": "execute_result"
    }
   ],
   "source": [
    "cosine_similarity([loaded_model.wv['2']], [loaded_model.wv['3']])"
   ]
  },
  {
   "cell_type": "code",
   "execution_count": 74,
   "metadata": {},
   "outputs": [
    {
     "data": {
      "text/plain": [
       "array([[0.6234854]], dtype=float32)"
      ]
     },
     "execution_count": 74,
     "metadata": {},
     "output_type": "execute_result"
    }
   ],
   "source": [
    "cosine_similarity([loaded_model.wv['2']], [loaded_model.wv['20']])"
   ]
  },
  {
   "cell_type": "code",
   "execution_count": 75,
   "metadata": {},
   "outputs": [
    {
     "data": {
      "text/plain": [
       "array([[0.4003661]], dtype=float32)"
      ]
     },
     "execution_count": 75,
     "metadata": {},
     "output_type": "execute_result"
    }
   ],
   "source": [
    "cosine_similarity([loaded_model.wv['عدد']], [loaded_model.wv['رقم']])"
   ]
  },
  {
   "cell_type": "code",
   "execution_count": 76,
   "metadata": {},
   "outputs": [
    {
     "data": {
      "text/plain": [
       "array([[0.60270715]], dtype=float32)"
      ]
     },
     "execution_count": 76,
     "metadata": {},
     "output_type": "execute_result"
    }
   ],
   "source": [
    "cosine_similarity([loaded_model.wv['محمد']], [loaded_model.wv['عمر']])"
   ]
  },
  {
   "cell_type": "code",
   "execution_count": 77,
   "metadata": {},
   "outputs": [
    {
     "data": {
      "text/plain": [
       "array([[0.5892294]], dtype=float32)"
      ]
     },
     "execution_count": 77,
     "metadata": {},
     "output_type": "execute_result"
    }
   ],
   "source": [
    "cosine_similarity([loaded_model.wv['محمد']], [loaded_model.wv['موسى']])"
   ]
  },
  {
   "cell_type": "code",
   "execution_count": 78,
   "metadata": {},
   "outputs": [
    {
     "data": {
      "text/plain": [
       "array([[0.33223003]], dtype=float32)"
      ]
     },
     "execution_count": 78,
     "metadata": {},
     "output_type": "execute_result"
    }
   ],
   "source": [
    "cosine_similarity([loaded_model.wv['عمور']], [loaded_model.wv['عمر']])"
   ]
  },
  {
   "cell_type": "code",
   "execution_count": 122,
   "metadata": {},
   "outputs": [
    {
     "ename": "NameError",
     "evalue": "name 'loaded_model' is not defined",
     "output_type": "error",
     "traceback": [
      "\u001b[1;31m---------------------------------------------------------------------------\u001b[0m",
      "\u001b[1;31mNameError\u001b[0m                                 Traceback (most recent call last)",
      "\u001b[1;32m<ipython-input-122-bfd1202f4f5c>\u001b[0m in \u001b[0;36m<module>\u001b[1;34m\u001b[0m\n\u001b[1;32m----> 1\u001b[1;33m \u001b[0mcosine_similarity\u001b[0m\u001b[1;33m(\u001b[0m\u001b[1;33m[\u001b[0m\u001b[0mloaded_model\u001b[0m\u001b[1;33m.\u001b[0m\u001b[0mwv\u001b[0m\u001b[1;33m[\u001b[0m\u001b[1;34m'الصمد'\u001b[0m\u001b[1;33m]\u001b[0m\u001b[1;33m]\u001b[0m\u001b[1;33m,\u001b[0m \u001b[1;33m[\u001b[0m\u001b[0mloaded_model\u001b[0m\u001b[1;33m.\u001b[0m\u001b[0mwv\u001b[0m\u001b[1;33m[\u001b[0m\u001b[1;34m'الله'\u001b[0m\u001b[1;33m]\u001b[0m\u001b[1;33m]\u001b[0m\u001b[1;33m)\u001b[0m\u001b[1;33m\u001b[0m\u001b[1;33m\u001b[0m\u001b[0m\n\u001b[0m",
      "\u001b[1;31mNameError\u001b[0m: name 'loaded_model' is not defined"
     ]
    }
   ],
   "source": [
    "cosine_similarity([loaded_model.wv['الصمد']], [loaded_model.wv['الله']])"
   ]
  },
  {
   "cell_type": "code",
   "execution_count": null,
   "metadata": {},
   "outputs": [],
   "source": [
    "cosine_similarity([loaded_model.wv['الرحمن']], [loaded_model.wv['الله']])"
   ]
  },
  {
   "cell_type": "code",
   "execution_count": 79,
   "metadata": {},
   "outputs": [],
   "source": [
    "### calculating the similarities using the method\n",
    "import numpy as np\n",
    "\n",
    "def cos_sim(a, b):\n",
    "    \"\"\"Takes 2 vectors a, b and returns the cosine similarity according \n",
    "    to the definition of the dot product\n",
    "    \"\"\"\n",
    "    dot_product = np.dot(a, b)\n",
    "    norm_a = np.linalg.norm(a)\n",
    "    norm_b = np.linalg.norm(b)\n",
    "    return dot_product / (norm_a * norm_b)\n"
   ]
  },
  {
   "cell_type": "code",
   "execution_count": 80,
   "metadata": {},
   "outputs": [
    {
     "data": {
      "text/plain": [
       "0.50218594"
      ]
     },
     "execution_count": 80,
     "metadata": {},
     "output_type": "execute_result"
    }
   ],
   "source": [
    "cos_sim(loaded_model.wv['رسول'], loaded_model.wv['نبي'])"
   ]
  },
  {
   "cell_type": "code",
   "execution_count": 81,
   "metadata": {},
   "outputs": [
    {
     "data": {
      "text/plain": [
       "0.5216583"
      ]
     },
     "execution_count": 81,
     "metadata": {},
     "output_type": "execute_result"
    }
   ],
   "source": [
    "cos_sim(loaded_model.wv['رسول'], loaded_model.wv['محمد'])"
   ]
  },
  {
   "cell_type": "code",
   "execution_count": 82,
   "metadata": {},
   "outputs": [
    {
     "data": {
      "text/plain": [
       "0.16638774"
      ]
     },
     "execution_count": 82,
     "metadata": {},
     "output_type": "execute_result"
    }
   ],
   "source": [
    "cos_sim(loaded_model.wv['رسول'], loaded_model.wv['جنة'])"
   ]
  },
  {
   "cell_type": "code",
   "execution_count": 83,
   "metadata": {},
   "outputs": [
    {
     "data": {
      "text/plain": [
       "0.12746914"
      ]
     },
     "execution_count": 83,
     "metadata": {},
     "output_type": "execute_result"
    }
   ],
   "source": [
    "cos_sim(loaded_model.wv['رسول'], loaded_model.wv['نار'])"
   ]
  },
  {
   "cell_type": "code",
   "execution_count": 84,
   "metadata": {},
   "outputs": [
    {
     "data": {
      "text/plain": [
       "0.12859258"
      ]
     },
     "execution_count": 84,
     "metadata": {},
     "output_type": "execute_result"
    }
   ],
   "source": [
    "cos_sim(loaded_model.wv['رسول'], loaded_model.wv['فرقان'])"
   ]
  },
  {
   "cell_type": "code",
   "execution_count": 85,
   "metadata": {},
   "outputs": [
    {
     "data": {
      "text/plain": [
       "0.15797509"
      ]
     },
     "execution_count": 85,
     "metadata": {},
     "output_type": "execute_result"
    }
   ],
   "source": [
    "cos_sim(loaded_model.wv['كتاب'], loaded_model.wv['فرقان'])"
   ]
  },
  {
   "cell_type": "code",
   "execution_count": 86,
   "metadata": {},
   "outputs": [
    {
     "data": {
      "text/plain": [
       "0.31052208"
      ]
     },
     "execution_count": 86,
     "metadata": {},
     "output_type": "execute_result"
    }
   ],
   "source": [
    "cos_sim(loaded_model.wv['قرآن'], loaded_model.wv['فرقان'])"
   ]
  },
  {
   "cell_type": "code",
   "execution_count": 87,
   "metadata": {},
   "outputs": [
    {
     "data": {
      "text/plain": [
       "0.36985892"
      ]
     },
     "execution_count": 87,
     "metadata": {},
     "output_type": "execute_result"
    }
   ],
   "source": [
    "cos_sim(loaded_model.wv['قرآن'], loaded_model.wv['كتاب'])"
   ]
  },
  {
   "cell_type": "code",
   "execution_count": 88,
   "metadata": {},
   "outputs": [
    {
     "data": {
      "text/plain": [
       "0.31517965"
      ]
     },
     "execution_count": 88,
     "metadata": {},
     "output_type": "execute_result"
    }
   ],
   "source": [
    "cos_sim(loaded_model.wv['جنة'], loaded_model.wv['سماء'])"
   ]
  },
  {
   "cell_type": "code",
   "execution_count": 89,
   "metadata": {},
   "outputs": [
    {
     "data": {
      "text/plain": [
       "0.3245928"
      ]
     },
     "execution_count": 89,
     "metadata": {},
     "output_type": "execute_result"
    }
   ],
   "source": [
    "cos_sim(loaded_model.wv['سقف'], loaded_model.wv['سماء'])"
   ]
  },
  {
   "cell_type": "code",
   "execution_count": 90,
   "metadata": {},
   "outputs": [
    {
     "data": {
      "text/plain": [
       "0.17188053"
      ]
     },
     "execution_count": 90,
     "metadata": {},
     "output_type": "execute_result"
    }
   ],
   "source": [
    "cos_sim(loaded_model.wv['فرش'], loaded_model.wv['مهد'])"
   ]
  },
  {
   "cell_type": "code",
   "execution_count": 91,
   "metadata": {},
   "outputs": [
    {
     "data": {
      "text/plain": [
       "0.08407868"
      ]
     },
     "execution_count": 91,
     "metadata": {},
     "output_type": "execute_result"
    }
   ],
   "source": [
    "cos_sim(loaded_model.wv['جغل'], loaded_model.wv['مهد'])"
   ]
  },
  {
   "cell_type": "code",
   "execution_count": 92,
   "metadata": {},
   "outputs": [
    {
     "data": {
      "text/plain": [
       "0.07040074"
      ]
     },
     "execution_count": 92,
     "metadata": {},
     "output_type": "execute_result"
    }
   ],
   "source": [
    "cos_sim(loaded_model.wv['بعت'], loaded_model.wv['مهد'])"
   ]
  },
  {
   "cell_type": "code",
   "execution_count": 93,
   "metadata": {
    "scrolled": false
   },
   "outputs": [
    {
     "data": {
      "text/plain": [
       "0.47210708"
      ]
     },
     "execution_count": 93,
     "metadata": {},
     "output_type": "execute_result"
    }
   ],
   "source": [
    "cos_sim(loaded_model.wv['سماء'], loaded_model.wv['أرض'])"
   ]
  },
  {
   "cell_type": "code",
   "execution_count": 4,
   "metadata": {
    "scrolled": true
   },
   "outputs": [
    {
     "name": "stdout",
     "output_type": "stream",
     "text": [
      "Collecting elmoformanylangsNote: you may need to restart the kernel to use updated packages.\n",
      "  Downloading elmoformanylangs-0.0.4.post2-py3-none-any.whl (42 kB)\n",
      "Requirement already satisfied: h5py in c:\\users\\marwa\\appdata\\local\\programs\\python\\python38\\lib\\site-packages (from elmoformanylangs) (3.1.0)\n",
      "Collecting overrides\n",
      "  Downloading overrides-6.1.0-py3-none-any.whl (14 kB)\n",
      "Requirement already satisfied: numpy in c:\\users\\marwa\\appdata\\local\\programs\\python\\python38\\lib\\site-packages (from elmoformanylangs) (1.19.5)\n",
      "Requirement already satisfied: torch in c:\\users\\marwa\\appdata\\local\\programs\\python\\python38\\lib\\site-packages (from elmoformanylangs) (1.8.1)\n",
      "Collecting typing-utils>=0.0.3\n",
      "\n"
     ]
    },
    {
     "name": "stderr",
     "output_type": "stream",
     "text": [
      "WARNING: You are using pip version 21.3.1; however, version 22.0.3 is available.\n",
      "You should consider upgrading via the 'c:\\users\\marwa\\appdata\\local\\programs\\python\\python38\\python.exe -m pip install --upgrade pip' command.\n"
     ]
    },
    {
     "name": "stdout",
     "output_type": "stream",
     "text": [
      "  Downloading typing_utils-0.1.0-py3-none-any.whl (10 kB)\n",
      "Requirement already satisfied: typing-extensions in c:\\users\\marwa\\appdata\\local\\programs\\python\\python38\\lib\\site-packages (from torch->elmoformanylangs) (4.0.1)\n",
      "Installing collected packages: typing-utils, overrides, elmoformanylangs\n",
      "Successfully installed elmoformanylangs-0.0.4.post2 overrides-6.1.0 typing-utils-0.1.0\n"
     ]
    }
   ],
   "source": [
    "pip install elmoformanylangs"
   ]
  },
  {
   "cell_type": "markdown",
   "metadata": {},
   "source": [
    "### Using Elmo"
   ]
  },
  {
   "cell_type": "code",
   "execution_count": 14,
   "metadata": {
    "scrolled": true
   },
   "outputs": [
    {
     "name": "stdout",
     "output_type": "stream",
     "text": [
      "Collecting tensorflow_hub\n",
      "  Downloading tensorflow_hub-0.12.0-py2.py3-none-any.whl (108 kB)\n",
      "Requirement already satisfied: numpy>=1.12.0 in c:\\users\\marwa\\appdata\\local\\programs\\python\\python38\\lib\\site-packages (from tensorflow_hub) (1.19.5)\n",
      "Requirement already satisfied: protobuf>=3.8.0 in c:\\users\\marwa\\appdata\\local\\programs\\python\\python38\\lib\\site-packages (from tensorflow_hub) (3.17.0)\n",
      "Requirement already satisfied: six>=1.9 in c:\\users\\marwa\\appdata\\local\\programs\\python\\python38\\lib\\site-packages (from protobuf>=3.8.0->tensorflow_hub) (1.15.0)\n",
      "Installing collected packages: tensorflow-hub\n",
      "Successfully installed tensorflow-hub-0.12.0\n",
      "Note: you may need to restart the kernel to use updated packages.\n"
     ]
    },
    {
     "name": "stderr",
     "output_type": "stream",
     "text": [
      "WARNING: You are using pip version 21.3.1; however, version 22.0.3 is available.\n",
      "You should consider upgrading via the 'c:\\users\\marwa\\appdata\\local\\programs\\python\\python38\\python.exe -m pip install --upgrade pip' command.\n"
     ]
    }
   ],
   "source": [
    "pip install tensorflow_hub"
   ]
  },
  {
   "cell_type": "code",
   "execution_count": 21,
   "metadata": {},
   "outputs": [
    {
     "name": "stdout",
     "output_type": "stream",
     "text": [
      "INFO:tensorflow:Saver not created because there are no variables in the graph to restore\n"
     ]
    },
    {
     "name": "stderr",
     "output_type": "stream",
     "text": [
      "INFO:tensorflow:Saver not created because there are no variables in the graph to restore\n"
     ]
    },
    {
     "name": "stdout",
     "output_type": "stream",
     "text": [
      "Word embeddings for word WATCH in first sentence\n",
      "[ 0.14079642 -0.15788558 -0.00950477 ...  0.43005988 -0.52887094\n",
      "  0.06327887]\n",
      "Word embeddings for word WATCH in second sentence\n",
      "[-0.08213349  0.01050319 -0.0145416  ...  0.48705405 -0.5445794\n",
      "  0.52623975]\n"
     ]
    }
   ],
   "source": [
    "# import necessary libraries\n",
    "import tensorflow_hub as hub\n",
    "import tensorflow.compat.v1 as tf\n",
    "tf.disable_eager_execution()\n",
    "  \n",
    "# Load pre trained ELMo model\n",
    "elmo = hub.Module(\"https://tfhub.dev/google/elmo/3\", trainable=True)\n",
    "  \n",
    "# create an instance of ELMo\n",
    "embeddings = elmo(\n",
    "    [\n",
    "        \"I love to watch TV\",\n",
    "        \"I am wearing a wrist watch\"\n",
    "    ],\n",
    "    signature=\"default\",\n",
    "    as_dict=True)[\"elmo\"]\n",
    "init = tf.initialize_all_variables()\n",
    "sess = tf.Session()\n",
    "sess.run(init)\n",
    "  \n",
    "# Print word embeddings for word WATCH in given two sentences\n",
    "print('Word embeddings for word WATCH in first sentence')\n",
    "print(sess.run(embeddings[0][3]))\n",
    "print('Word embeddings for word WATCH in second sentence')\n",
    "print(sess.run(embeddings[1][5]))"
   ]
  },
  {
   "cell_type": "markdown",
   "metadata": {},
   "source": [
    "## Using the wordvector"
   ]
  },
  {
   "cell_type": "code",
   "execution_count": 25,
   "metadata": {},
   "outputs": [],
   "source": [
    "from gensim.models import Word2Vec\n"
   ]
  },
  {
   "cell_type": "code",
   "execution_count": 107,
   "metadata": {},
   "outputs": [],
   "source": [
    "corpus_file = 'Embedding_corpus//corpus.txt'\n",
    "Word2Vec_model = Word2Vec(vector_size=300, window = 15)\n",
    "\n",
    "# build the vocabulary\n",
    "Word2Vec_model.build_vocab(corpus_file=corpus_file)\n"
   ]
  },
  {
   "cell_type": "code",
   "execution_count": 108,
   "metadata": {},
   "outputs": [
    {
     "data": {
      "text/plain": [
       "117426"
      ]
     },
     "execution_count": 108,
     "metadata": {},
     "output_type": "execute_result"
    }
   ],
   "source": [
    "Word2Vec_model.corpus_total_words"
   ]
  },
  {
   "cell_type": "code",
   "execution_count": 109,
   "metadata": {},
   "outputs": [
    {
     "data": {
      "text/plain": [
       "6236"
      ]
     },
     "execution_count": 109,
     "metadata": {},
     "output_type": "execute_result"
    }
   ],
   "source": [
    "Word2Vec_model.corpus_count"
   ]
  },
  {
   "cell_type": "code",
   "execution_count": 110,
   "metadata": {},
   "outputs": [
    {
     "data": {
      "text/plain": [
       "(5908502, 11912700)"
      ]
     },
     "execution_count": 110,
     "metadata": {},
     "output_type": "execute_result"
    }
   ],
   "source": [
    "Word2Vec_model.train(epochs=100, corpus_file=corpus_file, total_examples=Word2Vec_model.corpus_count, \n",
    "            total_words=Word2Vec_model.corpus_total_words, min_count=1)\n"
   ]
  },
  {
   "cell_type": "code",
   "execution_count": 111,
   "metadata": {
    "scrolled": false
   },
   "outputs": [
    {
     "data": {
      "text/plain": [
       "[('ملكا', 0.5295157432556152),\n",
       " ('فرقان', 0.40848618745803833),\n",
       " ('ندعو', 0.3893474340438843),\n",
       " ('لبثتم', 0.3779974579811096),\n",
       " ('واحدا', 0.3764412999153137),\n",
       " ('سلاما', 0.3634685277938843),\n",
       " ('تلقي', 0.3518032729625702),\n",
       " ('ينادي', 0.34153130650520325),\n",
       " ('منافقون', 0.33595290780067444),\n",
       " ('منع', 0.32379287481307983)]"
      ]
     },
     "execution_count": 111,
     "metadata": {},
     "output_type": "execute_result"
    }
   ],
   "source": [
    "Word2Vec_model.wv.most_similar('أبعث')"
   ]
  },
  {
   "cell_type": "code",
   "execution_count": 112,
   "metadata": {},
   "outputs": [
    {
     "data": {
      "text/plain": [
       "[('تؤمنوا', 0.3146205246448517),\n",
       " ('نبي', 0.29878857731819153),\n",
       " ('مؤمنات', 0.2664247751235962),\n",
       " ('فاسقون', 0.25682738423347473),\n",
       " ('غفورا', 0.24958501756191254),\n",
       " ('يعلم', 0.24695350229740143),\n",
       " ('يحلفون', 0.23785841464996338),\n",
       " ('قلوب', 0.23442745208740234),\n",
       " ('صلاة', 0.2328035980463028),\n",
       " ('أعراب', 0.23158350586891174)]"
      ]
     },
     "execution_count": 112,
     "metadata": {},
     "output_type": "execute_result"
    }
   ],
   "source": [
    "Word2Vec_model.wv.most_similar('رسول')"
   ]
  },
  {
   "cell_type": "code",
   "execution_count": 113,
   "metadata": {},
   "outputs": [],
   "source": [
    "from sklearn.metrics.pairwise import cosine_similarity"
   ]
  },
  {
   "cell_type": "code",
   "execution_count": 114,
   "metadata": {
    "scrolled": false
   },
   "outputs": [
    {
     "data": {
      "text/plain": [
       "array([[0.29878855]], dtype=float32)"
      ]
     },
     "execution_count": 114,
     "metadata": {},
     "output_type": "execute_result"
    }
   ],
   "source": [
    "cosine_similarity([Word2Vec_model.wv['رسول']], [Word2Vec_model.wv['نبي']])"
   ]
  },
  {
   "cell_type": "code",
   "execution_count": 115,
   "metadata": {},
   "outputs": [
    {
     "data": {
      "text/plain": [
       "array([[0.01292729]], dtype=float32)"
      ]
     },
     "execution_count": 115,
     "metadata": {},
     "output_type": "execute_result"
    }
   ],
   "source": [
    "cosine_similarity([Word2Vec_model.wv['قرآن']], [Word2Vec_model.wv['فرقان']])"
   ]
  },
  {
   "cell_type": "code",
   "execution_count": 116,
   "metadata": {},
   "outputs": [
    {
     "data": {
      "text/plain": [
       "array([[0.08927743]], dtype=float32)"
      ]
     },
     "execution_count": 116,
     "metadata": {},
     "output_type": "execute_result"
    }
   ],
   "source": [
    "cosine_similarity([Word2Vec_model.wv['كتاب']], [Word2Vec_model.wv['قرآن']])"
   ]
  },
  {
   "cell_type": "code",
   "execution_count": 121,
   "metadata": {},
   "outputs": [
    {
     "ename": "KeyError",
     "evalue": "\"Key 'الصمد' not present\"",
     "output_type": "error",
     "traceback": [
      "\u001b[1;31m---------------------------------------------------------------------------\u001b[0m",
      "\u001b[1;31mKeyError\u001b[0m                                  Traceback (most recent call last)",
      "\u001b[1;32m<ipython-input-121-88cf3dc476d3>\u001b[0m in \u001b[0;36m<module>\u001b[1;34m\u001b[0m\n\u001b[1;32m----> 1\u001b[1;33m \u001b[0mcosine_similarity\u001b[0m\u001b[1;33m(\u001b[0m\u001b[1;33m[\u001b[0m\u001b[0mWord2Vec_model\u001b[0m\u001b[1;33m.\u001b[0m\u001b[0mwv\u001b[0m\u001b[1;33m[\u001b[0m\u001b[1;34m'الصمد'\u001b[0m\u001b[1;33m]\u001b[0m\u001b[1;33m]\u001b[0m\u001b[1;33m,\u001b[0m \u001b[1;33m[\u001b[0m\u001b[0mWord2Vec_model\u001b[0m\u001b[1;33m.\u001b[0m\u001b[0mwv\u001b[0m\u001b[1;33m[\u001b[0m\u001b[1;34m'الله'\u001b[0m\u001b[1;33m]\u001b[0m\u001b[1;33m]\u001b[0m\u001b[1;33m)\u001b[0m\u001b[1;33m\u001b[0m\u001b[1;33m\u001b[0m\u001b[0m\n\u001b[0m",
      "\u001b[1;32mc:\\users\\marwa\\appdata\\local\\programs\\python\\python38\\lib\\site-packages\\gensim\\models\\keyedvectors.py\u001b[0m in \u001b[0;36m__getitem__\u001b[1;34m(self, key_or_keys)\u001b[0m\n\u001b[0;32m    377\u001b[0m         \"\"\"\n\u001b[0;32m    378\u001b[0m         \u001b[1;32mif\u001b[0m \u001b[0misinstance\u001b[0m\u001b[1;33m(\u001b[0m\u001b[0mkey_or_keys\u001b[0m\u001b[1;33m,\u001b[0m \u001b[0mKEY_TYPES\u001b[0m\u001b[1;33m)\u001b[0m\u001b[1;33m:\u001b[0m\u001b[1;33m\u001b[0m\u001b[1;33m\u001b[0m\u001b[0m\n\u001b[1;32m--> 379\u001b[1;33m             \u001b[1;32mreturn\u001b[0m \u001b[0mself\u001b[0m\u001b[1;33m.\u001b[0m\u001b[0mget_vector\u001b[0m\u001b[1;33m(\u001b[0m\u001b[0mkey_or_keys\u001b[0m\u001b[1;33m)\u001b[0m\u001b[1;33m\u001b[0m\u001b[1;33m\u001b[0m\u001b[0m\n\u001b[0m\u001b[0;32m    380\u001b[0m \u001b[1;33m\u001b[0m\u001b[0m\n\u001b[0;32m    381\u001b[0m         \u001b[1;32mreturn\u001b[0m \u001b[0mvstack\u001b[0m\u001b[1;33m(\u001b[0m\u001b[1;33m[\u001b[0m\u001b[0mself\u001b[0m\u001b[1;33m.\u001b[0m\u001b[0mget_vector\u001b[0m\u001b[1;33m(\u001b[0m\u001b[0mkey\u001b[0m\u001b[1;33m)\u001b[0m \u001b[1;32mfor\u001b[0m \u001b[0mkey\u001b[0m \u001b[1;32min\u001b[0m \u001b[0mkey_or_keys\u001b[0m\u001b[1;33m]\u001b[0m\u001b[1;33m)\u001b[0m\u001b[1;33m\u001b[0m\u001b[1;33m\u001b[0m\u001b[0m\n",
      "\u001b[1;32mc:\\users\\marwa\\appdata\\local\\programs\\python\\python38\\lib\\site-packages\\gensim\\models\\keyedvectors.py\u001b[0m in \u001b[0;36mget_vector\u001b[1;34m(self, key, norm)\u001b[0m\n\u001b[0;32m    420\u001b[0m \u001b[1;33m\u001b[0m\u001b[0m\n\u001b[0;32m    421\u001b[0m         \"\"\"\n\u001b[1;32m--> 422\u001b[1;33m         \u001b[0mindex\u001b[0m \u001b[1;33m=\u001b[0m \u001b[0mself\u001b[0m\u001b[1;33m.\u001b[0m\u001b[0mget_index\u001b[0m\u001b[1;33m(\u001b[0m\u001b[0mkey\u001b[0m\u001b[1;33m)\u001b[0m\u001b[1;33m\u001b[0m\u001b[1;33m\u001b[0m\u001b[0m\n\u001b[0m\u001b[0;32m    423\u001b[0m         \u001b[1;32mif\u001b[0m \u001b[0mnorm\u001b[0m\u001b[1;33m:\u001b[0m\u001b[1;33m\u001b[0m\u001b[1;33m\u001b[0m\u001b[0m\n\u001b[0;32m    424\u001b[0m             \u001b[0mself\u001b[0m\u001b[1;33m.\u001b[0m\u001b[0mfill_norms\u001b[0m\u001b[1;33m(\u001b[0m\u001b[1;33m)\u001b[0m\u001b[1;33m\u001b[0m\u001b[1;33m\u001b[0m\u001b[0m\n",
      "\u001b[1;32mc:\\users\\marwa\\appdata\\local\\programs\\python\\python38\\lib\\site-packages\\gensim\\models\\keyedvectors.py\u001b[0m in \u001b[0;36mget_index\u001b[1;34m(self, key, default)\u001b[0m\n\u001b[0;32m    394\u001b[0m             \u001b[1;32mreturn\u001b[0m \u001b[0mdefault\u001b[0m\u001b[1;33m\u001b[0m\u001b[1;33m\u001b[0m\u001b[0m\n\u001b[0;32m    395\u001b[0m         \u001b[1;32melse\u001b[0m\u001b[1;33m:\u001b[0m\u001b[1;33m\u001b[0m\u001b[1;33m\u001b[0m\u001b[0m\n\u001b[1;32m--> 396\u001b[1;33m             \u001b[1;32mraise\u001b[0m \u001b[0mKeyError\u001b[0m\u001b[1;33m(\u001b[0m\u001b[1;34mf\"Key '{key}' not present\"\u001b[0m\u001b[1;33m)\u001b[0m\u001b[1;33m\u001b[0m\u001b[1;33m\u001b[0m\u001b[0m\n\u001b[0m\u001b[0;32m    397\u001b[0m \u001b[1;33m\u001b[0m\u001b[0m\n\u001b[0;32m    398\u001b[0m     \u001b[1;32mdef\u001b[0m \u001b[0mget_vector\u001b[0m\u001b[1;33m(\u001b[0m\u001b[0mself\u001b[0m\u001b[1;33m,\u001b[0m \u001b[0mkey\u001b[0m\u001b[1;33m,\u001b[0m \u001b[0mnorm\u001b[0m\u001b[1;33m=\u001b[0m\u001b[1;32mFalse\u001b[0m\u001b[1;33m)\u001b[0m\u001b[1;33m:\u001b[0m\u001b[1;33m\u001b[0m\u001b[1;33m\u001b[0m\u001b[0m\n",
      "\u001b[1;31mKeyError\u001b[0m: \"Key 'الصمد' not present\""
     ]
    }
   ],
   "source": [
    "cosine_similarity([Word2Vec_model.wv['الصمد']], [Word2Vec_model.wv['الله']])"
   ]
  },
  {
   "cell_type": "code",
   "execution_count": null,
   "metadata": {},
   "outputs": [],
   "source": []
  }
 ],
 "metadata": {
  "kernelspec": {
   "display_name": "Python 3",
   "language": "python",
   "name": "python3"
  },
  "language_info": {
   "codemirror_mode": {
    "name": "ipython",
    "version": 3
   },
   "file_extension": ".py",
   "mimetype": "text/x-python",
   "name": "python",
   "nbconvert_exporter": "python",
   "pygments_lexer": "ipython3",
   "version": "3.8.5"
  }
 },
 "nbformat": 4,
 "nbformat_minor": 5
}
