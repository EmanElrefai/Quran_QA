{
 "cells": [
  {
   "cell_type": "code",
   "execution_count": 81,
   "id": "6699ccc5",
   "metadata": {},
   "outputs": [],
   "source": [
    "# from the following repo: https://github.com/motazsaad/process-arabic-text/blob/master/clean_arabic_text.py\n",
    "import re\n",
    "import string\n",
    "import sys\n",
    "import argparse\n",
    "\n",
    "arabic_punctuations = '''`÷×؛<>_()*&^%][ـ،/:\"؟.,'{}~¦+|!”…“–ـ'''\n",
    "english_punctuations = string.punctuation\n",
    "punctuations_list = arabic_punctuations + english_punctuations\n",
    "\n",
    "arabic_diacritics = re.compile(\"\"\"\n",
    "                             ّ    | # Tashdid\n",
    "                             ّ    | # shadda\n",
    "                             ٰ    | #qasr\n",
    "                             َ    | # Fatha\n",
    "                             ً    | # Tanwin Fath\n",
    "                             ُ    | # Damma\n",
    "                             ٌ    | # Tanwin Damm\n",
    "                             ۚ    | # waqf1\n",
    "                             ۗ    | ##\n",
    "                             ۖ    | ##\n",
    "                             ۘ    | ##\n",
    "                             ۙ    |##\n",
    "                             ۛ    |##\n",
    "                             ِ    | # Kasra\n",
    "                             ٍ    | # Tanwin Kasr\n",
    "                             ْ    | # Sukun\n",
    "                             ـ     # Tatwil/Kashida\n",
    "                         \"\"\", re.VERBOSE)\n",
    "def remove_digits(text):\n",
    "    text = re.sub(r\"[1234567890١٢٣٤٥٦٧٨٩٠]+\", \"\", text)\n",
    "    return text\n",
    "\n",
    "def remove_english_characters(text):\n",
    "    text = re.sub(r'[a-zA-Z]+','',text)\n",
    "    return text\n",
    "    \n",
    "\n",
    "def remove_diacritics(text):\n",
    "    text = re.sub(arabic_diacritics, '', text)\n",
    "    return text\n",
    "\n",
    "\n",
    "def remove_punctuations(text):\n",
    "    translator = str.maketrans('', '', punctuations_list)\n",
    "    return text.translate(translator)\n",
    "def Arabic_normalization(sentence):\n",
    "    \n",
    "    text = remove_english_characters(sentence)\n",
    "    text = remove_digits(text)\n",
    "    text = remove_diacritics(text)\n",
    "    text = remove_punctuations(text)        \n",
    "    return text    "
   ]
  },
  {
   "cell_type": "code",
   "execution_count": 76,
   "id": "9acf3c44",
   "metadata": {},
   "outputs": [
    {
     "data": {
      "text/html": [
       "<div>\n",
       "<style scoped>\n",
       "    .dataframe tbody tr th:only-of-type {\n",
       "        vertical-align: middle;\n",
       "    }\n",
       "\n",
       "    .dataframe tbody tr th {\n",
       "        vertical-align: top;\n",
       "    }\n",
       "\n",
       "    .dataframe thead th {\n",
       "        text-align: right;\n",
       "    }\n",
       "</style>\n",
       "<table border=\"1\" class=\"dataframe\">\n",
       "  <thead>\n",
       "    <tr style=\"text-align: right;\">\n",
       "      <th></th>\n",
       "      <th>surah</th>\n",
       "      <th>verse number</th>\n",
       "      <th>verse</th>\n",
       "    </tr>\n",
       "  </thead>\n",
       "  <tbody>\n",
       "    <tr>\n",
       "      <th>0</th>\n",
       "      <td>1</td>\n",
       "      <td>1</td>\n",
       "      <td>بِسْمِ اللَّهِ الرَّحْمَٰنِ الرَّحِيمِ</td>\n",
       "    </tr>\n",
       "    <tr>\n",
       "      <th>1</th>\n",
       "      <td>1</td>\n",
       "      <td>2</td>\n",
       "      <td>الْحَمْدُ لِلَّهِ رَبِّ الْعَالَمِينَ</td>\n",
       "    </tr>\n",
       "    <tr>\n",
       "      <th>2</th>\n",
       "      <td>1</td>\n",
       "      <td>3</td>\n",
       "      <td>الرَّحْمَٰنِ الرَّحِيمِ</td>\n",
       "    </tr>\n",
       "    <tr>\n",
       "      <th>3</th>\n",
       "      <td>1</td>\n",
       "      <td>4</td>\n",
       "      <td>مَالِكِ يَوْمِ الدِّينِ</td>\n",
       "    </tr>\n",
       "    <tr>\n",
       "      <th>4</th>\n",
       "      <td>1</td>\n",
       "      <td>5</td>\n",
       "      <td>إِيَّاكَ نَعْبُدُ وَإِيَّاكَ نَسْتَعِينُ</td>\n",
       "    </tr>\n",
       "  </tbody>\n",
       "</table>\n",
       "</div>"
      ],
      "text/plain": [
       "   surah  verse number                                     verse\n",
       "0      1             1    بِسْمِ اللَّهِ الرَّحْمَٰنِ الرَّحِيمِ\n",
       "1      1             2     الْحَمْدُ لِلَّهِ رَبِّ الْعَالَمِينَ\n",
       "2      1             3                   الرَّحْمَٰنِ الرَّحِيمِ\n",
       "3      1             4                   مَالِكِ يَوْمِ الدِّينِ\n",
       "4      1             5  إِيَّاكَ نَعْبُدُ وَإِيَّاكَ نَسْتَعِينُ"
      ]
     },
     "execution_count": 76,
     "metadata": {},
     "output_type": "execute_result"
    }
   ],
   "source": [
    "import pandas as pd\n",
    "df = pd.read_csv(\"Arabic-Original.csv\" ,delimiter='|')\n",
    "df.head()"
   ]
  },
  {
   "cell_type": "code",
   "execution_count": 82,
   "id": "faeec99a",
   "metadata": {},
   "outputs": [
    {
     "data": {
      "text/html": [
       "<div>\n",
       "<style scoped>\n",
       "    .dataframe tbody tr th:only-of-type {\n",
       "        vertical-align: middle;\n",
       "    }\n",
       "\n",
       "    .dataframe tbody tr th {\n",
       "        vertical-align: top;\n",
       "    }\n",
       "\n",
       "    .dataframe thead th {\n",
       "        text-align: right;\n",
       "    }\n",
       "</style>\n",
       "<table border=\"1\" class=\"dataframe\">\n",
       "  <thead>\n",
       "    <tr style=\"text-align: right;\">\n",
       "      <th></th>\n",
       "      <th>surah</th>\n",
       "      <th>verse number</th>\n",
       "      <th>verse</th>\n",
       "      <th>ayah</th>\n",
       "    </tr>\n",
       "  </thead>\n",
       "  <tbody>\n",
       "    <tr>\n",
       "      <th>0</th>\n",
       "      <td>1</td>\n",
       "      <td>1</td>\n",
       "      <td>بِسْمِ اللَّهِ الرَّحْمَٰنِ الرَّحِيمِ</td>\n",
       "      <td>بسم الله الرحمن الرحيم</td>\n",
       "    </tr>\n",
       "    <tr>\n",
       "      <th>1</th>\n",
       "      <td>1</td>\n",
       "      <td>2</td>\n",
       "      <td>الْحَمْدُ لِلَّهِ رَبِّ الْعَالَمِينَ</td>\n",
       "      <td>الحمد لله رب العالمين</td>\n",
       "    </tr>\n",
       "    <tr>\n",
       "      <th>2</th>\n",
       "      <td>1</td>\n",
       "      <td>3</td>\n",
       "      <td>الرَّحْمَٰنِ الرَّحِيمِ</td>\n",
       "      <td>الرحمن الرحيم</td>\n",
       "    </tr>\n",
       "    <tr>\n",
       "      <th>3</th>\n",
       "      <td>1</td>\n",
       "      <td>4</td>\n",
       "      <td>مَالِكِ يَوْمِ الدِّينِ</td>\n",
       "      <td>مالك يوم الدين</td>\n",
       "    </tr>\n",
       "    <tr>\n",
       "      <th>4</th>\n",
       "      <td>1</td>\n",
       "      <td>5</td>\n",
       "      <td>إِيَّاكَ نَعْبُدُ وَإِيَّاكَ نَسْتَعِينُ</td>\n",
       "      <td>إياك نعبد وإياك نستعين</td>\n",
       "    </tr>\n",
       "  </tbody>\n",
       "</table>\n",
       "</div>"
      ],
      "text/plain": [
       "   surah  verse number                                     verse  \\\n",
       "0      1             1    بِسْمِ اللَّهِ الرَّحْمَٰنِ الرَّحِيمِ   \n",
       "1      1             2     الْحَمْدُ لِلَّهِ رَبِّ الْعَالَمِينَ   \n",
       "2      1             3                   الرَّحْمَٰنِ الرَّحِيمِ   \n",
       "3      1             4                   مَالِكِ يَوْمِ الدِّينِ   \n",
       "4      1             5  إِيَّاكَ نَعْبُدُ وَإِيَّاكَ نَسْتَعِينُ   \n",
       "\n",
       "                     ayah  \n",
       "0  بسم الله الرحمن الرحيم  \n",
       "1   الحمد لله رب العالمين  \n",
       "2           الرحمن الرحيم  \n",
       "3          مالك يوم الدين  \n",
       "4  إياك نعبد وإياك نستعين  "
      ]
     },
     "execution_count": 82,
     "metadata": {},
     "output_type": "execute_result"
    }
   ],
   "source": [
    "df['ayah']= df['verse'].apply(Arabic_normalization)\n",
    "df.head()"
   ]
  },
  {
   "cell_type": "code",
   "execution_count": 70,
   "id": "6af38a1f",
   "metadata": {},
   "outputs": [],
   "source": [
    "x =df['ayah'][0][14]\n",
    "with open(\"c.txt\" , 'w') as f:\n",
    "    f.write(str(x))"
   ]
  },
  {
   "cell_type": "code",
   "execution_count": 83,
   "id": "31992fe4",
   "metadata": {},
   "outputs": [],
   "source": [
    "quranlist = df['ayah'].tolist()"
   ]
  },
  {
   "cell_type": "code",
   "execution_count": 85,
   "id": "a43fe0ab",
   "metadata": {},
   "outputs": [],
   "source": [
    "with open('quran.txt' , 'w') as f:\n",
    "    for ayah in quranlist:\n",
    "        print(ayah , file=f)"
   ]
  },
  {
   "cell_type": "code",
   "execution_count": 84,
   "id": "e0077ec6",
   "metadata": {},
   "outputs": [
    {
     "data": {
      "text/plain": [
       "'ذلك الكتاب لا ريب  فيه  هدى للمتقين'"
      ]
     },
     "execution_count": 84,
     "metadata": {},
     "output_type": "execute_result"
    }
   ],
   "source": [
    "quranlist[8]"
   ]
  },
  {
   "cell_type": "code",
   "execution_count": null,
   "id": "d04b07a8",
   "metadata": {},
   "outputs": [],
   "source": []
  }
 ],
 "metadata": {
  "kernelspec": {
   "display_name": "Python 3 (ipykernel)",
   "language": "python",
   "name": "python3"
  },
  "language_info": {
   "codemirror_mode": {
    "name": "ipython",
    "version": 3
   },
   "file_extension": ".py",
   "mimetype": "text/x-python",
   "name": "python",
   "nbconvert_exporter": "python",
   "pygments_lexer": "ipython3",
   "version": "3.9.10"
  }
 },
 "nbformat": 4,
 "nbformat_minor": 5
}
